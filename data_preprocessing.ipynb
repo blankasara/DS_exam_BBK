{
 "cells": [
  {
   "cell_type": "raw",
   "metadata": {},
   "source": [
    "Preparing the raw lyrics data\n",
    "1) cleaning up some rows\n",
    "2) language detection to delete non-English songs (nltk's language detection)\n",
    "3) exploring dataset: years and data across years, artists"
   ]
  },
  {
   "cell_type": "code",
   "execution_count": 1,
   "metadata": {},
   "outputs": [
    {
     "name": "stdout",
     "output_type": "stream",
     "text": [
      "Collecting langdetect\n",
      "  Downloading langdetect-1.0.9.tar.gz (981 kB)\n",
      "\u001b[K     |████████████████████████████████| 981 kB 4.7 MB/s eta 0:00:01\n",
      "\u001b[?25hRequirement already satisfied: six in /opt/conda/lib/python3.7/site-packages (from langdetect) (1.15.0)\n",
      "Building wheels for collected packages: langdetect\n",
      "  Building wheel for langdetect (setup.py) ... \u001b[?25ldone\n",
      "\u001b[?25h  Created wheel for langdetect: filename=langdetect-1.0.9-py3-none-any.whl size=993222 sha256=0f31e44878621158023a1a46302d3ce1b18fb26d57500ed31d225ae6874433cd\n",
      "  Stored in directory: /home/ucloud/.cache/pip/wheels/c5/96/8a/f90c59ed25d75e50a8c10a1b1c2d4c402e4dacfa87f3aff36a\n",
      "Successfully built langdetect\n",
      "Installing collected packages: langdetect\n",
      "Successfully installed langdetect-1.0.9\n"
     ]
    }
   ],
   "source": [
    "#installing nltk's langdetect package\n",
    "!pip install langdetect"
   ]
  },
  {
   "cell_type": "code",
   "execution_count": 2,
   "metadata": {},
   "outputs": [],
   "source": [
    "#importing packages\n",
    "import numpy as np\n",
    "import pandas as pd\n",
    "import matplotlib.pyplot as plt #for plotting\n",
    "import seaborn as sns #for plotting\n",
    "from langdetect import detect #nltk's language detector package"
   ]
  },
  {
   "cell_type": "code",
   "execution_count": 3,
   "metadata": {},
   "outputs": [
    {
     "data": {
      "text/html": [
       "<div>\n",
       "<style scoped>\n",
       "    .dataframe tbody tr th:only-of-type {\n",
       "        vertical-align: middle;\n",
       "    }\n",
       "\n",
       "    .dataframe tbody tr th {\n",
       "        vertical-align: top;\n",
       "    }\n",
       "\n",
       "    .dataframe thead th {\n",
       "        text-align: right;\n",
       "    }\n",
       "</style>\n",
       "<table border=\"1\" class=\"dataframe\">\n",
       "  <thead>\n",
       "    <tr style=\"text-align: right;\">\n",
       "      <th></th>\n",
       "      <th>index</th>\n",
       "      <th>song</th>\n",
       "      <th>year</th>\n",
       "      <th>artist</th>\n",
       "      <th>genre</th>\n",
       "      <th>lyrics</th>\n",
       "    </tr>\n",
       "  </thead>\n",
       "  <tbody>\n",
       "    <tr>\n",
       "      <th>0</th>\n",
       "      <td>0</td>\n",
       "      <td>ego-remix</td>\n",
       "      <td>2009</td>\n",
       "      <td>beyonce-knowles</td>\n",
       "      <td>Pop</td>\n",
       "      <td>Oh baby, how you doing?\\nYou know I'm gonna cu...</td>\n",
       "    </tr>\n",
       "    <tr>\n",
       "      <th>1</th>\n",
       "      <td>1</td>\n",
       "      <td>then-tell-me</td>\n",
       "      <td>2009</td>\n",
       "      <td>beyonce-knowles</td>\n",
       "      <td>Pop</td>\n",
       "      <td>playin' everything so easy,\\nit's like you see...</td>\n",
       "    </tr>\n",
       "    <tr>\n",
       "      <th>2</th>\n",
       "      <td>2</td>\n",
       "      <td>honesty</td>\n",
       "      <td>2009</td>\n",
       "      <td>beyonce-knowles</td>\n",
       "      <td>Pop</td>\n",
       "      <td>If you search\\nFor tenderness\\nIt isn't hard t...</td>\n",
       "    </tr>\n",
       "    <tr>\n",
       "      <th>3</th>\n",
       "      <td>3</td>\n",
       "      <td>you-are-my-rock</td>\n",
       "      <td>2009</td>\n",
       "      <td>beyonce-knowles</td>\n",
       "      <td>Pop</td>\n",
       "      <td>Oh oh oh I, oh oh oh I\\n[Verse 1:]\\nIf I wrote...</td>\n",
       "    </tr>\n",
       "    <tr>\n",
       "      <th>4</th>\n",
       "      <td>4</td>\n",
       "      <td>black-culture</td>\n",
       "      <td>2009</td>\n",
       "      <td>beyonce-knowles</td>\n",
       "      <td>Pop</td>\n",
       "      <td>Party the people, the people the party it's po...</td>\n",
       "    </tr>\n",
       "    <tr>\n",
       "      <th>...</th>\n",
       "      <td>...</td>\n",
       "      <td>...</td>\n",
       "      <td>...</td>\n",
       "      <td>...</td>\n",
       "      <td>...</td>\n",
       "      <td>...</td>\n",
       "    </tr>\n",
       "    <tr>\n",
       "      <th>362232</th>\n",
       "      <td>362232</td>\n",
       "      <td>who-am-i-drinking-tonight</td>\n",
       "      <td>2012</td>\n",
       "      <td>edens-edge</td>\n",
       "      <td>Country</td>\n",
       "      <td>I gotta say\\nBoy, after only just a couple of ...</td>\n",
       "    </tr>\n",
       "    <tr>\n",
       "      <th>362233</th>\n",
       "      <td>362233</td>\n",
       "      <td>liar</td>\n",
       "      <td>2012</td>\n",
       "      <td>edens-edge</td>\n",
       "      <td>Country</td>\n",
       "      <td>I helped you find her diamond ring\\nYou made m...</td>\n",
       "    </tr>\n",
       "    <tr>\n",
       "      <th>362234</th>\n",
       "      <td>362234</td>\n",
       "      <td>last-supper</td>\n",
       "      <td>2012</td>\n",
       "      <td>edens-edge</td>\n",
       "      <td>Country</td>\n",
       "      <td>Look at the couple in the corner booth\\nLooks ...</td>\n",
       "    </tr>\n",
       "    <tr>\n",
       "      <th>362235</th>\n",
       "      <td>362235</td>\n",
       "      <td>christ-alone-live-in-studio</td>\n",
       "      <td>2012</td>\n",
       "      <td>edens-edge</td>\n",
       "      <td>Country</td>\n",
       "      <td>When I fly off this mortal earth\\nAnd I'm meas...</td>\n",
       "    </tr>\n",
       "    <tr>\n",
       "      <th>362236</th>\n",
       "      <td>362236</td>\n",
       "      <td>amen</td>\n",
       "      <td>2012</td>\n",
       "      <td>edens-edge</td>\n",
       "      <td>Country</td>\n",
       "      <td>I heard from a friend of a friend of a friend ...</td>\n",
       "    </tr>\n",
       "  </tbody>\n",
       "</table>\n",
       "<p>362237 rows × 6 columns</p>\n",
       "</div>"
      ],
      "text/plain": [
       "         index                         song  year           artist    genre  \\\n",
       "0            0                    ego-remix  2009  beyonce-knowles      Pop   \n",
       "1            1                 then-tell-me  2009  beyonce-knowles      Pop   \n",
       "2            2                      honesty  2009  beyonce-knowles      Pop   \n",
       "3            3              you-are-my-rock  2009  beyonce-knowles      Pop   \n",
       "4            4                black-culture  2009  beyonce-knowles      Pop   \n",
       "...        ...                          ...   ...              ...      ...   \n",
       "362232  362232    who-am-i-drinking-tonight  2012       edens-edge  Country   \n",
       "362233  362233                         liar  2012       edens-edge  Country   \n",
       "362234  362234                  last-supper  2012       edens-edge  Country   \n",
       "362235  362235  christ-alone-live-in-studio  2012       edens-edge  Country   \n",
       "362236  362236                         amen  2012       edens-edge  Country   \n",
       "\n",
       "                                                   lyrics  \n",
       "0       Oh baby, how you doing?\\nYou know I'm gonna cu...  \n",
       "1       playin' everything so easy,\\nit's like you see...  \n",
       "2       If you search\\nFor tenderness\\nIt isn't hard t...  \n",
       "3       Oh oh oh I, oh oh oh I\\n[Verse 1:]\\nIf I wrote...  \n",
       "4       Party the people, the people the party it's po...  \n",
       "...                                                   ...  \n",
       "362232  I gotta say\\nBoy, after only just a couple of ...  \n",
       "362233  I helped you find her diamond ring\\nYou made m...  \n",
       "362234  Look at the couple in the corner booth\\nLooks ...  \n",
       "362235  When I fly off this mortal earth\\nAnd I'm meas...  \n",
       "362236  I heard from a friend of a friend of a friend ...  \n",
       "\n",
       "[362237 rows x 6 columns]"
      ]
     },
     "execution_count": 3,
     "metadata": {},
     "output_type": "execute_result"
    }
   ],
   "source": [
    "#reading in the raw data from \n",
    "#https://www.kaggle.com/sarahdejong/lyrics?fbclid=IwAR3mcIEne5zUKJwEu0mQ0hN7hYfAFTLZd392UaGT6Ru4lbQzAqSzddSvrkk \n",
    "data = pd.read_csv(\"lyrics.csv\")\n",
    "data"
   ]
  },
  {
   "cell_type": "raw",
   "metadata": {},
   "source": [
    "Looking at years: sorting data in ascending order based on years, correcting some errors by manually searching for years"
   ]
  },
  {
   "cell_type": "code",
   "execution_count": 4,
   "metadata": {},
   "outputs": [
    {
     "data": {
      "text/html": [
       "<div>\n",
       "<style scoped>\n",
       "    .dataframe tbody tr th:only-of-type {\n",
       "        vertical-align: middle;\n",
       "    }\n",
       "\n",
       "    .dataframe tbody tr th {\n",
       "        vertical-align: top;\n",
       "    }\n",
       "\n",
       "    .dataframe thead th {\n",
       "        text-align: right;\n",
       "    }\n",
       "</style>\n",
       "<table border=\"1\" class=\"dataframe\">\n",
       "  <thead>\n",
       "    <tr style=\"text-align: right;\">\n",
       "      <th></th>\n",
       "      <th>index</th>\n",
       "      <th>song</th>\n",
       "      <th>year</th>\n",
       "      <th>artist</th>\n",
       "      <th>genre</th>\n",
       "      <th>lyrics</th>\n",
       "    </tr>\n",
       "  </thead>\n",
       "  <tbody>\n",
       "    <tr>\n",
       "      <th>315540</th>\n",
       "      <td>315540</td>\n",
       "      <td>let-s-lurk</td>\n",
       "      <td>67</td>\n",
       "      <td>giggs</td>\n",
       "      <td>Hip-Hop</td>\n",
       "      <td>Verse 1:\\nStill pulling up on smoke\\nSkeng in ...</td>\n",
       "    </tr>\n",
       "    <tr>\n",
       "      <th>335205</th>\n",
       "      <td>335205</td>\n",
       "      <td>i-can-t-believe</td>\n",
       "      <td>112</td>\n",
       "      <td>faith-evans</td>\n",
       "      <td>Pop</td>\n",
       "      <td>[Chorus]\\nI can't believe that love has gone a...</td>\n",
       "    </tr>\n",
       "    <tr>\n",
       "      <th>147914</th>\n",
       "      <td>147914</td>\n",
       "      <td>it-s-over-now-remix</td>\n",
       "      <td>112</td>\n",
       "      <td>g-dep</td>\n",
       "      <td>Hip-Hop</td>\n",
       "      <td>What is this?\\nNumbers in your pocket\\nI remem...</td>\n",
       "    </tr>\n",
       "    <tr>\n",
       "      <th>69708</th>\n",
       "      <td>69708</td>\n",
       "      <td>anywhere-remix</td>\n",
       "      <td>112</td>\n",
       "      <td>dru-hill</td>\n",
       "      <td>Hip-Hop</td>\n",
       "      <td>Here we are all alone\\nYou and me, privacy\\nAn...</td>\n",
       "    </tr>\n",
       "    <tr>\n",
       "      <th>238541</th>\n",
       "      <td>238541</td>\n",
       "      <td>come-see-me-remix</td>\n",
       "      <td>112</td>\n",
       "      <td>black-rob</td>\n",
       "      <td>Hip-Hop</td>\n",
       "      <td>Baby, you can come see me 'cause I need you he...</td>\n",
       "    </tr>\n",
       "    <tr>\n",
       "      <th>27657</th>\n",
       "      <td>27657</td>\n",
       "      <td>star</td>\n",
       "      <td>702</td>\n",
       "      <td>clipse</td>\n",
       "      <td>Hip-Hop</td>\n",
       "      <td>You're my star\\nIt's such a wonder how you shi...</td>\n",
       "    </tr>\n",
       "    <tr>\n",
       "      <th>124916</th>\n",
       "      <td>124916</td>\n",
       "      <td>without-you</td>\n",
       "      <td>1968</td>\n",
       "      <td>fleetwood-mac</td>\n",
       "      <td>Rock</td>\n",
       "      <td>I'm crazy for my baby\\nBut my baby she don't l...</td>\n",
       "    </tr>\n",
       "    <tr>\n",
       "      <th>91831</th>\n",
       "      <td>91831</td>\n",
       "      <td>mr-big</td>\n",
       "      <td>1970</td>\n",
       "      <td>the-free</td>\n",
       "      <td>Rock</td>\n",
       "      <td>NaN</td>\n",
       "    </tr>\n",
       "    <tr>\n",
       "      <th>273603</th>\n",
       "      <td>273603</td>\n",
       "      <td>in-your-time</td>\n",
       "      <td>1970</td>\n",
       "      <td>christopher</td>\n",
       "      <td>Rock</td>\n",
       "      <td>NaN</td>\n",
       "    </tr>\n",
       "    <tr>\n",
       "      <th>273604</th>\n",
       "      <td>273604</td>\n",
       "      <td>wilbur-lite</td>\n",
       "      <td>1970</td>\n",
       "      <td>christopher</td>\n",
       "      <td>Rock</td>\n",
       "      <td>NaN</td>\n",
       "    </tr>\n",
       "  </tbody>\n",
       "</table>\n",
       "</div>"
      ],
      "text/plain": [
       "         index                 song  year         artist    genre  \\\n",
       "315540  315540           let-s-lurk    67          giggs  Hip-Hop   \n",
       "335205  335205      i-can-t-believe   112    faith-evans      Pop   \n",
       "147914  147914  it-s-over-now-remix   112          g-dep  Hip-Hop   \n",
       "69708    69708       anywhere-remix   112       dru-hill  Hip-Hop   \n",
       "238541  238541    come-see-me-remix   112      black-rob  Hip-Hop   \n",
       "27657    27657                 star   702         clipse  Hip-Hop   \n",
       "124916  124916          without-you  1968  fleetwood-mac     Rock   \n",
       "91831    91831               mr-big  1970       the-free     Rock   \n",
       "273603  273603         in-your-time  1970    christopher     Rock   \n",
       "273604  273604          wilbur-lite  1970    christopher     Rock   \n",
       "\n",
       "                                                   lyrics  \n",
       "315540  Verse 1:\\nStill pulling up on smoke\\nSkeng in ...  \n",
       "335205  [Chorus]\\nI can't believe that love has gone a...  \n",
       "147914  What is this?\\nNumbers in your pocket\\nI remem...  \n",
       "69708   Here we are all alone\\nYou and me, privacy\\nAn...  \n",
       "238541  Baby, you can come see me 'cause I need you he...  \n",
       "27657   You're my star\\nIt's such a wonder how you shi...  \n",
       "124916  I'm crazy for my baby\\nBut my baby she don't l...  \n",
       "91831                                                 NaN  \n",
       "273603                                                NaN  \n",
       "273604                                                NaN  "
      ]
     },
     "execution_count": 4,
     "metadata": {},
     "output_type": "execute_result"
    }
   ],
   "source": [
    "#sort data by year (ascending)\n",
    "data_sorted = data.sort_values(\"year\")\n",
    "data_sorted.iloc[0:10 , ]"
   ]
  },
  {
   "cell_type": "code",
   "execution_count": 5,
   "metadata": {},
   "outputs": [
    {
     "data": {
      "text/html": [
       "<div>\n",
       "<style scoped>\n",
       "    .dataframe tbody tr th:only-of-type {\n",
       "        vertical-align: middle;\n",
       "    }\n",
       "\n",
       "    .dataframe tbody tr th {\n",
       "        vertical-align: top;\n",
       "    }\n",
       "\n",
       "    .dataframe thead th {\n",
       "        text-align: right;\n",
       "    }\n",
       "</style>\n",
       "<table border=\"1\" class=\"dataframe\">\n",
       "  <thead>\n",
       "    <tr style=\"text-align: right;\">\n",
       "      <th></th>\n",
       "      <th>index</th>\n",
       "      <th>song</th>\n",
       "      <th>year</th>\n",
       "      <th>artist</th>\n",
       "      <th>genre</th>\n",
       "      <th>lyrics</th>\n",
       "    </tr>\n",
       "  </thead>\n",
       "  <tbody>\n",
       "    <tr>\n",
       "      <th>315540</th>\n",
       "      <td>315540</td>\n",
       "      <td>let-s-lurk</td>\n",
       "      <td>2016</td>\n",
       "      <td>67</td>\n",
       "      <td>Hip-Hop</td>\n",
       "      <td>Verse 1:\\nStill pulling up on smoke\\nSkeng in ...</td>\n",
       "    </tr>\n",
       "    <tr>\n",
       "      <th>335205</th>\n",
       "      <td>335205</td>\n",
       "      <td>i-can-t-believe</td>\n",
       "      <td>1996</td>\n",
       "      <td>112</td>\n",
       "      <td>Pop</td>\n",
       "      <td>[Chorus]\\nI can't believe that love has gone a...</td>\n",
       "    </tr>\n",
       "    <tr>\n",
       "      <th>147914</th>\n",
       "      <td>147914</td>\n",
       "      <td>it-s-over-now-remix</td>\n",
       "      <td>2000</td>\n",
       "      <td>112</td>\n",
       "      <td>Hip-Hop</td>\n",
       "      <td>What is this?\\nNumbers in your pocket\\nI remem...</td>\n",
       "    </tr>\n",
       "    <tr>\n",
       "      <th>69708</th>\n",
       "      <td>69708</td>\n",
       "      <td>anywhere-remix</td>\n",
       "      <td>1999</td>\n",
       "      <td>112</td>\n",
       "      <td>Hip-Hop</td>\n",
       "      <td>Here we are all alone\\nYou and me, privacy\\nAn...</td>\n",
       "    </tr>\n",
       "    <tr>\n",
       "      <th>238541</th>\n",
       "      <td>238541</td>\n",
       "      <td>come-see-me-remix</td>\n",
       "      <td>1996</td>\n",
       "      <td>112</td>\n",
       "      <td>Hip-Hop</td>\n",
       "      <td>Baby, you can come see me 'cause I need you he...</td>\n",
       "    </tr>\n",
       "    <tr>\n",
       "      <th>...</th>\n",
       "      <td>...</td>\n",
       "      <td>...</td>\n",
       "      <td>...</td>\n",
       "      <td>...</td>\n",
       "      <td>...</td>\n",
       "      <td>...</td>\n",
       "    </tr>\n",
       "    <tr>\n",
       "      <th>112168</th>\n",
       "      <td>112168</td>\n",
       "      <td>minhoca</td>\n",
       "      <td>2038</td>\n",
       "      <td>anita</td>\n",
       "      <td>Rock</td>\n",
       "      <td>NaN</td>\n",
       "    </tr>\n",
       "    <tr>\n",
       "      <th>112167</th>\n",
       "      <td>112167</td>\n",
       "      <td>pipi-das-meias-altas</td>\n",
       "      <td>2038</td>\n",
       "      <td>anita</td>\n",
       "      <td>Rock</td>\n",
       "      <td>NaN</td>\n",
       "    </tr>\n",
       "    <tr>\n",
       "      <th>112163</th>\n",
       "      <td>112163</td>\n",
       "      <td>todos-os-patinhos</td>\n",
       "      <td>2038</td>\n",
       "      <td>anita</td>\n",
       "      <td>Rock</td>\n",
       "      <td>NaN</td>\n",
       "    </tr>\n",
       "    <tr>\n",
       "      <th>112164</th>\n",
       "      <td>112164</td>\n",
       "      <td>joana-come-a-papa</td>\n",
       "      <td>2038</td>\n",
       "      <td>anita</td>\n",
       "      <td>Rock</td>\n",
       "      <td>NaN</td>\n",
       "    </tr>\n",
       "    <tr>\n",
       "      <th>112166</th>\n",
       "      <td>112166</td>\n",
       "      <td>eu-vi-um-sapo</td>\n",
       "      <td>2038</td>\n",
       "      <td>anita</td>\n",
       "      <td>Rock</td>\n",
       "      <td>NaN</td>\n",
       "    </tr>\n",
       "  </tbody>\n",
       "</table>\n",
       "<p>362237 rows × 6 columns</p>\n",
       "</div>"
      ],
      "text/plain": [
       "         index                  song  year artist    genre  \\\n",
       "315540  315540            let-s-lurk  2016     67  Hip-Hop   \n",
       "335205  335205       i-can-t-believe  1996    112      Pop   \n",
       "147914  147914   it-s-over-now-remix  2000    112  Hip-Hop   \n",
       "69708    69708        anywhere-remix  1999    112  Hip-Hop   \n",
       "238541  238541     come-see-me-remix  1996    112  Hip-Hop   \n",
       "...        ...                   ...   ...    ...      ...   \n",
       "112168  112168               minhoca  2038  anita     Rock   \n",
       "112167  112167  pipi-das-meias-altas  2038  anita     Rock   \n",
       "112163  112163     todos-os-patinhos  2038  anita     Rock   \n",
       "112164  112164     joana-come-a-papa  2038  anita     Rock   \n",
       "112166  112166         eu-vi-um-sapo  2038  anita     Rock   \n",
       "\n",
       "                                                   lyrics  \n",
       "315540  Verse 1:\\nStill pulling up on smoke\\nSkeng in ...  \n",
       "335205  [Chorus]\\nI can't believe that love has gone a...  \n",
       "147914  What is this?\\nNumbers in your pocket\\nI remem...  \n",
       "69708   Here we are all alone\\nYou and me, privacy\\nAn...  \n",
       "238541  Baby, you can come see me 'cause I need you he...  \n",
       "...                                                   ...  \n",
       "112168                                                NaN  \n",
       "112167                                                NaN  \n",
       "112163                                                NaN  \n",
       "112164                                                NaN  \n",
       "112166                                                NaN  \n",
       "\n",
       "[362237 rows x 6 columns]"
      ]
     },
     "execution_count": 5,
     "metadata": {},
     "output_type": "execute_result"
    }
   ],
   "source": [
    "#the year of a couple of songs is mixed up with the artist name in cases where the artist's name was a number\n",
    "data_sorted.iloc[0,2] = 2016 #actual year / adding to year column to correct\n",
    "data_sorted.iloc[0,3] = 67 #name of artist not year / transfering to name column\n",
    "data_sorted.iloc[1,2] = 1996\n",
    "data_sorted.iloc[1,3] = 112\n",
    "data_sorted.iloc[2,2] = 2000\n",
    "data_sorted.iloc[2,3] = 112\n",
    "data_sorted.iloc[3,2] = 1999\n",
    "data_sorted.iloc[3,3] = 112\n",
    "data_sorted.iloc[4,2] = 1996\n",
    "data_sorted.iloc[4,3] = 112\n",
    "data_sorted.iloc[5,2] = 2003\n",
    "data_sorted.iloc[5,3] = 702\n",
    "data_sorted"
   ]
  },
  {
   "cell_type": "raw",
   "metadata": {},
   "source": [
    "Some songs don't have lyrics (NaN in lyrics column): how many are they, dropping those rows"
   ]
  },
  {
   "cell_type": "code",
   "execution_count": 6,
   "metadata": {},
   "outputs": [
    {
     "data": {
      "text/plain": [
       "95681"
      ]
     },
     "execution_count": 6,
     "metadata": {},
     "output_type": "execute_result"
    }
   ],
   "source": [
    "#difference between with and without NaN: loosing 95681 rows (out of 362237)\n",
    "len(data_sorted) - len(data_sorted.dropna())"
   ]
  },
  {
   "cell_type": "code",
   "execution_count": 7,
   "metadata": {},
   "outputs": [
    {
     "data": {
      "text/html": [
       "<div>\n",
       "<style scoped>\n",
       "    .dataframe tbody tr th:only-of-type {\n",
       "        vertical-align: middle;\n",
       "    }\n",
       "\n",
       "    .dataframe tbody tr th {\n",
       "        vertical-align: top;\n",
       "    }\n",
       "\n",
       "    .dataframe thead th {\n",
       "        text-align: right;\n",
       "    }\n",
       "</style>\n",
       "<table border=\"1\" class=\"dataframe\">\n",
       "  <thead>\n",
       "    <tr style=\"text-align: right;\">\n",
       "      <th></th>\n",
       "      <th>index</th>\n",
       "      <th>song</th>\n",
       "      <th>year</th>\n",
       "      <th>artist</th>\n",
       "      <th>genre</th>\n",
       "      <th>lyrics</th>\n",
       "    </tr>\n",
       "  </thead>\n",
       "  <tbody>\n",
       "    <tr>\n",
       "      <th>315540</th>\n",
       "      <td>315540</td>\n",
       "      <td>let-s-lurk</td>\n",
       "      <td>2016</td>\n",
       "      <td>67</td>\n",
       "      <td>Hip-Hop</td>\n",
       "      <td>Verse 1:\\nStill pulling up on smoke\\nSkeng in ...</td>\n",
       "    </tr>\n",
       "    <tr>\n",
       "      <th>335205</th>\n",
       "      <td>335205</td>\n",
       "      <td>i-can-t-believe</td>\n",
       "      <td>1996</td>\n",
       "      <td>112</td>\n",
       "      <td>Pop</td>\n",
       "      <td>[Chorus]\\nI can't believe that love has gone a...</td>\n",
       "    </tr>\n",
       "    <tr>\n",
       "      <th>147914</th>\n",
       "      <td>147914</td>\n",
       "      <td>it-s-over-now-remix</td>\n",
       "      <td>2000</td>\n",
       "      <td>112</td>\n",
       "      <td>Hip-Hop</td>\n",
       "      <td>What is this?\\nNumbers in your pocket\\nI remem...</td>\n",
       "    </tr>\n",
       "    <tr>\n",
       "      <th>69708</th>\n",
       "      <td>69708</td>\n",
       "      <td>anywhere-remix</td>\n",
       "      <td>1999</td>\n",
       "      <td>112</td>\n",
       "      <td>Hip-Hop</td>\n",
       "      <td>Here we are all alone\\nYou and me, privacy\\nAn...</td>\n",
       "    </tr>\n",
       "    <tr>\n",
       "      <th>238541</th>\n",
       "      <td>238541</td>\n",
       "      <td>come-see-me-remix</td>\n",
       "      <td>1996</td>\n",
       "      <td>112</td>\n",
       "      <td>Hip-Hop</td>\n",
       "      <td>Baby, you can come see me 'cause I need you he...</td>\n",
       "    </tr>\n",
       "    <tr>\n",
       "      <th>...</th>\n",
       "      <td>...</td>\n",
       "      <td>...</td>\n",
       "      <td>...</td>\n",
       "      <td>...</td>\n",
       "      <td>...</td>\n",
       "      <td>...</td>\n",
       "    </tr>\n",
       "    <tr>\n",
       "      <th>182189</th>\n",
       "      <td>182189</td>\n",
       "      <td>i-had-a-home</td>\n",
       "      <td>2016</td>\n",
       "      <td>bach-mai</td>\n",
       "      <td>Other</td>\n",
       "      <td>I had a place to live\\nA warm bed to sleep in\\...</td>\n",
       "    </tr>\n",
       "    <tr>\n",
       "      <th>182190</th>\n",
       "      <td>182190</td>\n",
       "      <td>daybreak</td>\n",
       "      <td>2016</td>\n",
       "      <td>bach-mai</td>\n",
       "      <td>Other</td>\n",
       "      <td>I know that I am not alone\\nAnd if you think t...</td>\n",
       "    </tr>\n",
       "    <tr>\n",
       "      <th>182191</th>\n",
       "      <td>182191</td>\n",
       "      <td>feeling-this-low</td>\n",
       "      <td>2016</td>\n",
       "      <td>bach-mai</td>\n",
       "      <td>Other</td>\n",
       "      <td>I heard there was another man another pair of ...</td>\n",
       "    </tr>\n",
       "    <tr>\n",
       "      <th>63737</th>\n",
       "      <td>63737</td>\n",
       "      <td>i-wish-i-was</td>\n",
       "      <td>2016</td>\n",
       "      <td>avett-brothers</td>\n",
       "      <td>Country</td>\n",
       "      <td>I wish I was a flame dancing in a candle\\nLigh...</td>\n",
       "    </tr>\n",
       "    <tr>\n",
       "      <th>311822</th>\n",
       "      <td>311822</td>\n",
       "      <td>unlucky-charms</td>\n",
       "      <td>2016</td>\n",
       "      <td>excellion</td>\n",
       "      <td>Metal</td>\n",
       "      <td>I can feel the air, I can feel the pain once m...</td>\n",
       "    </tr>\n",
       "  </tbody>\n",
       "</table>\n",
       "<p>266556 rows × 6 columns</p>\n",
       "</div>"
      ],
      "text/plain": [
       "         index                 song  year          artist    genre  \\\n",
       "315540  315540           let-s-lurk  2016              67  Hip-Hop   \n",
       "335205  335205      i-can-t-believe  1996             112      Pop   \n",
       "147914  147914  it-s-over-now-remix  2000             112  Hip-Hop   \n",
       "69708    69708       anywhere-remix  1999             112  Hip-Hop   \n",
       "238541  238541    come-see-me-remix  1996             112  Hip-Hop   \n",
       "...        ...                  ...   ...             ...      ...   \n",
       "182189  182189         i-had-a-home  2016        bach-mai    Other   \n",
       "182190  182190             daybreak  2016        bach-mai    Other   \n",
       "182191  182191     feeling-this-low  2016        bach-mai    Other   \n",
       "63737    63737         i-wish-i-was  2016  avett-brothers  Country   \n",
       "311822  311822       unlucky-charms  2016       excellion    Metal   \n",
       "\n",
       "                                                   lyrics  \n",
       "315540  Verse 1:\\nStill pulling up on smoke\\nSkeng in ...  \n",
       "335205  [Chorus]\\nI can't believe that love has gone a...  \n",
       "147914  What is this?\\nNumbers in your pocket\\nI remem...  \n",
       "69708   Here we are all alone\\nYou and me, privacy\\nAn...  \n",
       "238541  Baby, you can come see me 'cause I need you he...  \n",
       "...                                                   ...  \n",
       "182189  I had a place to live\\nA warm bed to sleep in\\...  \n",
       "182190  I know that I am not alone\\nAnd if you think t...  \n",
       "182191  I heard there was another man another pair of ...  \n",
       "63737   I wish I was a flame dancing in a candle\\nLigh...  \n",
       "311822  I can feel the air, I can feel the pain once m...  \n",
       "\n",
       "[266556 rows x 6 columns]"
      ]
     },
     "execution_count": 7,
     "metadata": {},
     "output_type": "execute_result"
    }
   ],
   "source": [
    "data_clean = data_sorted.dropna()\n",
    "data_clean #266556 rows (songs)"
   ]
  },
  {
   "cell_type": "raw",
   "metadata": {},
   "source": [
    "Some lyrics are not in English: detecting and deleting them"
   ]
  },
  {
   "cell_type": "code",
   "execution_count": 8,
   "metadata": {},
   "outputs": [
    {
     "name": "stdout",
     "output_type": "stream",
     "text": [
      "NA\n",
      "NA\n",
      "NA\n",
      "NA\n",
      "NA\n",
      "NA\n",
      "NA\n",
      "NA\n",
      "NA\n",
      "NA\n",
      "NA\n",
      "NA\n",
      "NA\n",
      "NA\n",
      "NA\n",
      "NA\n",
      "NA\n",
      "NA\n",
      "NA\n",
      "NA\n",
      "NA\n",
      "NA\n",
      "NA\n",
      "NA\n",
      "NA\n",
      "NA\n",
      "NA\n",
      "NA\n",
      "NA\n",
      "NA\n",
      "NA\n",
      "NA\n",
      "NA\n",
      "NA\n",
      "NA\n",
      "NA\n",
      "NA\n",
      "NA\n",
      "NA\n"
     ]
    }
   ],
   "source": [
    "#let's detect undetectable language (japanese symbols) and filter them alongside with non-english texts\n",
    "lang=[]\n",
    "temp=[]\n",
    "for index, row in data_clean.iterrows():\n",
    "    temp = index, row['lyrics']\n",
    "    try:\n",
    "        language = detect(str(temp))\n",
    "    except:\n",
    "        language = \"error\"\n",
    "        print('NA')\n",
    "    lang.append(language)\n",
    "data_clean.insert(6, 'lang', value=lang) #new language column"
   ]
  },
  {
   "cell_type": "code",
   "execution_count": 15,
   "metadata": {},
   "outputs": [
    {
     "data": {
      "text/plain": [
       "array(['en', 'id', 'ro', 'pt', 'it', 'ca', 'so', 'sk', 'fr', 'af', 'sv',\n",
       "       'da', 'tl', 'cy', 'de', 'es', 'sw', 'hu', 'pl', 'fi', 'no',\n",
       "       'error', 'nl', 'hr', 'tr', 'sl', 'lt', 'cs', 'ja', 'sq', 'vi',\n",
       "       'et', 'lv', 'uk'], dtype=object)"
      ]
     },
     "execution_count": 15,
     "metadata": {},
     "output_type": "execute_result"
    }
   ],
   "source": [
    "#looking at all the languages detected\n",
    "data_clean['lang'].unique()"
   ]
  },
  {
   "cell_type": "code",
   "execution_count": 19,
   "metadata": {},
   "outputs": [
    {
     "data": {
      "text/plain": [
       "39"
      ]
     },
     "execution_count": 19,
     "metadata": {},
     "output_type": "execute_result"
    }
   ],
   "source": [
    "#identifying number of 'error's detected (lang that cannot be identified)\n",
    "errors = data_clean[data_clean['lang'] == 'error']\n",
    "len(errors) #39"
   ]
  },
  {
   "cell_type": "code",
   "execution_count": 20,
   "metadata": {},
   "outputs": [
    {
     "data": {
      "text/plain": [
       "95720"
      ]
     },
     "execution_count": 20,
     "metadata": {},
     "output_type": "execute_result"
    }
   ],
   "source": [
    "#removing errors\n",
    "data_clean = data_clean[data_clean['lang'] != 'error']\n",
    "len(data_sorted)-len(data_clean)\n",
    "#95720 in total"
   ]
  },
  {
   "cell_type": "code",
   "execution_count": 21,
   "metadata": {},
   "outputs": [
    {
     "data": {
      "text/plain": [
       "28621"
      ]
     },
     "execution_count": 21,
     "metadata": {},
     "output_type": "execute_result"
    }
   ],
   "source": [
    "#identifying non-English lyrics\n",
    "other_lang = data_clean[data_clean['lang'] != 'en']\n",
    "len(other_lang)\n",
    "# 28621 non-english lyrics out of the 28621"
   ]
  },
  {
   "cell_type": "code",
   "execution_count": 22,
   "metadata": {},
   "outputs": [
    {
     "data": {
      "text/plain": [
       "237896"
      ]
     },
     "execution_count": 22,
     "metadata": {},
     "output_type": "execute_result"
    }
   ],
   "source": [
    "#deleting non-English lyrics\n",
    "eng_lang = data_clean[data_clean['lang'] == 'en']\n",
    "len(eng_lang) # 237896 english lyrics"
   ]
  },
  {
   "cell_type": "raw",
   "metadata": {},
   "source": [
    "Exploring the data: number of artists, genres, plotting data by year"
   ]
  },
  {
   "cell_type": "code",
   "execution_count": 23,
   "metadata": {},
   "outputs": [
    {
     "data": {
      "text/plain": [
       "12830"
      ]
     },
     "execution_count": 23,
     "metadata": {},
     "output_type": "execute_result"
    }
   ],
   "source": [
    "#number of artists\n",
    "artists = eng_lang['artist'].unique()\n",
    "len(artists) #12830"
   ]
  },
  {
   "cell_type": "code",
   "execution_count": 25,
   "metadata": {},
   "outputs": [
    {
     "data": {
      "text/plain": [
       "12"
      ]
     },
     "execution_count": 25,
     "metadata": {},
     "output_type": "execute_result"
    }
   ],
   "source": [
    "#number of genres\n",
    "genres = eng_lang['genre'].unique() \n",
    "len(genres) #12 genres"
   ]
  },
  {
   "cell_type": "code",
   "execution_count": 26,
   "metadata": {},
   "outputs": [
    {
     "data": {
      "image/png": "[encoded data removed]",
      "text/plain": [
       "<Figure size 1490.4x739.44 with 1 Axes>"
      ]
     },
     "metadata": {},
     "output_type": "display_data"
    }
   ],
   "source": [
    "#plotting data by year\n",
    "sns.set(rc={'figure.figsize':(20.7,10.27)})\n",
    "sns.countplot(x ='year', data = eng_lang)\n",
    "plt.xticks(rotation=45)\n",
    "plt.show()"
   ]
  },
  {
   "cell_type": "code",
   "execution_count": 27,
   "metadata": {},
   "outputs": [
    {
     "data": {
      "image/png": "[encoded data removed]",
      "text/plain": [
       "<Figure size 1490.4x739.44 with 1 Axes>"
      ]
     },
     "metadata": {},
     "output_type": "display_data"
    }
   ],
   "source": [
    "#plotting until 2003 to see smaller data densities better\n",
    "sns.set(rc={'figure.figsize':(20.7,10.27)})\n",
    "sns.countplot(x ='year', data = eng_lang[eng_lang['year']<2003])\n",
    "plt.xticks(rotation=45)\n",
    "plt.show()"
   ]
  },
  {
   "cell_type": "code",
   "execution_count": 28,
   "metadata": {},
   "outputs": [
    {
     "name": "stdout",
     "output_type": "stream",
     "text": [
      "77 64269 1\n"
     ]
    }
   ],
   "source": [
    "#printing: 1968 (least songs), 1976 (2nd least songs), and 2006 (most songs)\n",
    "print(len(eng_lang[eng_lang['year'] == 1976]), len(eng_lang[eng_lang['year'] == 2006]), len(eng_lang[eng_lang['year'] == 1968]) ) \n",
    "# second lowest number of songs is in 1976, 77 songs,\n",
    "# and the most songs in 2006, 64269\n",
    "# 1968: 1 song"
   ]
  },
  {
   "cell_type": "code",
   "execution_count": 29,
   "metadata": {},
   "outputs": [
    {
     "data": {
      "text/plain": [
       "[1968,\n",
       " 1970,\n",
       " 1971,\n",
       " 1972,\n",
       " 1973,\n",
       " 1974,\n",
       " 1975,\n",
       " 1976,\n",
       " 1977,\n",
       " 1978,\n",
       " 1979,\n",
       " 1980,\n",
       " 1981,\n",
       " 1982,\n",
       " 1983,\n",
       " 1984,\n",
       " 1985,\n",
       " 1986,\n",
       " 1987,\n",
       " 1988,\n",
       " 1989,\n",
       " 1990,\n",
       " 1991,\n",
       " 1992,\n",
       " 1993,\n",
       " 1994,\n",
       " 1995,\n",
       " 1996,\n",
       " 1997,\n",
       " 1998,\n",
       " 1999,\n",
       " 2000,\n",
       " 2001,\n",
       " 2002,\n",
       " 2003,\n",
       " 2004,\n",
       " 2005,\n",
       " 2006,\n",
       " 2007,\n",
       " 2008,\n",
       " 2009,\n",
       " 2010,\n",
       " 2011,\n",
       " 2012,\n",
       " 2013,\n",
       " 2014,\n",
       " 2015,\n",
       " 2016]"
      ]
     },
     "execution_count": 29,
     "metadata": {},
     "output_type": "execute_result"
    }
   ],
   "source": [
    "#looking at range of years\n",
    "sorted(eng_lang['year'].unique())"
   ]
  },
  {
   "cell_type": "code",
   "execution_count": 33,
   "metadata": {},
   "outputs": [
    {
     "data": {
      "text/plain": [
       "1970"
      ]
     },
     "execution_count": 33,
     "metadata": {},
     "output_type": "execute_result"
    }
   ],
   "source": [
    "#we exclude 1968 because of the year gap and it's one song\n",
    "eng_lang = eng_lang[eng_lang['year'] != 1968]\n",
    "min(eng_lang['year']) #starting with 1970"
   ]
  },
  {
   "cell_type": "code",
   "execution_count": 34,
   "metadata": {},
   "outputs": [
    {
     "data": {
      "text/plain": [
       "12830"
      ]
     },
     "execution_count": 34,
     "metadata": {},
     "output_type": "execute_result"
    }
   ],
   "source": [
    "#checking number of artists once again\n",
    "artists = list(eng_lang['artist'].unique())\n",
    "len(artists) # still 12830 artists"
   ]
  },
  {
   "cell_type": "code",
   "execution_count": 44,
   "metadata": {},
   "outputs": [
    {
     "data": {
      "text/html": [
       "<div>\n",
       "<style scoped>\n",
       "    .dataframe tbody tr th:only-of-type {\n",
       "        vertical-align: middle;\n",
       "    }\n",
       "\n",
       "    .dataframe tbody tr th {\n",
       "        vertical-align: top;\n",
       "    }\n",
       "\n",
       "    .dataframe thead th {\n",
       "        text-align: right;\n",
       "    }\n",
       "</style>\n",
       "<table border=\"1\" class=\"dataframe\">\n",
       "  <thead>\n",
       "    <tr style=\"text-align: right;\">\n",
       "      <th></th>\n",
       "      <th>song</th>\n",
       "      <th>year</th>\n",
       "      <th>artist</th>\n",
       "      <th>genre</th>\n",
       "      <th>lyrics</th>\n",
       "    </tr>\n",
       "  </thead>\n",
       "  <tbody>\n",
       "    <tr>\n",
       "      <th>315540</th>\n",
       "      <td>let-s-lurk</td>\n",
       "      <td>2016</td>\n",
       "      <td>67</td>\n",
       "      <td>Hip-Hop</td>\n",
       "      <td>Verse 1:\\nStill pulling up on smoke\\nSkeng in ...</td>\n",
       "    </tr>\n",
       "    <tr>\n",
       "      <th>335205</th>\n",
       "      <td>i-can-t-believe</td>\n",
       "      <td>1996</td>\n",
       "      <td>112</td>\n",
       "      <td>Pop</td>\n",
       "      <td>[Chorus]\\nI can't believe that love has gone a...</td>\n",
       "    </tr>\n",
       "    <tr>\n",
       "      <th>147914</th>\n",
       "      <td>it-s-over-now-remix</td>\n",
       "      <td>2000</td>\n",
       "      <td>112</td>\n",
       "      <td>Hip-Hop</td>\n",
       "      <td>What is this?\\nNumbers in your pocket\\nI remem...</td>\n",
       "    </tr>\n",
       "    <tr>\n",
       "      <th>69708</th>\n",
       "      <td>anywhere-remix</td>\n",
       "      <td>1999</td>\n",
       "      <td>112</td>\n",
       "      <td>Hip-Hop</td>\n",
       "      <td>Here we are all alone\\nYou and me, privacy\\nAn...</td>\n",
       "    </tr>\n",
       "    <tr>\n",
       "      <th>238541</th>\n",
       "      <td>come-see-me-remix</td>\n",
       "      <td>1996</td>\n",
       "      <td>112</td>\n",
       "      <td>Hip-Hop</td>\n",
       "      <td>Baby, you can come see me 'cause I need you he...</td>\n",
       "    </tr>\n",
       "    <tr>\n",
       "      <th>...</th>\n",
       "      <td>...</td>\n",
       "      <td>...</td>\n",
       "      <td>...</td>\n",
       "      <td>...</td>\n",
       "      <td>...</td>\n",
       "    </tr>\n",
       "    <tr>\n",
       "      <th>182189</th>\n",
       "      <td>i-had-a-home</td>\n",
       "      <td>2016</td>\n",
       "      <td>bach-mai</td>\n",
       "      <td>Other</td>\n",
       "      <td>I had a place to live\\nA warm bed to sleep in\\...</td>\n",
       "    </tr>\n",
       "    <tr>\n",
       "      <th>182190</th>\n",
       "      <td>daybreak</td>\n",
       "      <td>2016</td>\n",
       "      <td>bach-mai</td>\n",
       "      <td>Other</td>\n",
       "      <td>I know that I am not alone\\nAnd if you think t...</td>\n",
       "    </tr>\n",
       "    <tr>\n",
       "      <th>182191</th>\n",
       "      <td>feeling-this-low</td>\n",
       "      <td>2016</td>\n",
       "      <td>bach-mai</td>\n",
       "      <td>Other</td>\n",
       "      <td>I heard there was another man another pair of ...</td>\n",
       "    </tr>\n",
       "    <tr>\n",
       "      <th>63737</th>\n",
       "      <td>i-wish-i-was</td>\n",
       "      <td>2016</td>\n",
       "      <td>avett-brothers</td>\n",
       "      <td>Country</td>\n",
       "      <td>I wish I was a flame dancing in a candle\\nLigh...</td>\n",
       "    </tr>\n",
       "    <tr>\n",
       "      <th>311822</th>\n",
       "      <td>unlucky-charms</td>\n",
       "      <td>2016</td>\n",
       "      <td>excellion</td>\n",
       "      <td>Metal</td>\n",
       "      <td>I can feel the air, I can feel the pain once m...</td>\n",
       "    </tr>\n",
       "  </tbody>\n",
       "</table>\n",
       "<p>237895 rows × 5 columns</p>\n",
       "</div>"
      ],
      "text/plain": [
       "                       song  year          artist    genre  \\\n",
       "315540           let-s-lurk  2016              67  Hip-Hop   \n",
       "335205      i-can-t-believe  1996             112      Pop   \n",
       "147914  it-s-over-now-remix  2000             112  Hip-Hop   \n",
       "69708        anywhere-remix  1999             112  Hip-Hop   \n",
       "238541    come-see-me-remix  1996             112  Hip-Hop   \n",
       "...                     ...   ...             ...      ...   \n",
       "182189         i-had-a-home  2016        bach-mai    Other   \n",
       "182190             daybreak  2016        bach-mai    Other   \n",
       "182191     feeling-this-low  2016        bach-mai    Other   \n",
       "63737          i-wish-i-was  2016  avett-brothers  Country   \n",
       "311822       unlucky-charms  2016       excellion    Metal   \n",
       "\n",
       "                                                   lyrics  \n",
       "315540  Verse 1:\\nStill pulling up on smoke\\nSkeng in ...  \n",
       "335205  [Chorus]\\nI can't believe that love has gone a...  \n",
       "147914  What is this?\\nNumbers in your pocket\\nI remem...  \n",
       "69708   Here we are all alone\\nYou and me, privacy\\nAn...  \n",
       "238541  Baby, you can come see me 'cause I need you he...  \n",
       "...                                                   ...  \n",
       "182189  I had a place to live\\nA warm bed to sleep in\\...  \n",
       "182190  I know that I am not alone\\nAnd if you think t...  \n",
       "182191  I heard there was another man another pair of ...  \n",
       "63737   I wish I was a flame dancing in a candle\\nLigh...  \n",
       "311822  I can feel the air, I can feel the pain once m...  \n",
       "\n",
       "[237895 rows x 5 columns]"
      ]
     },
     "execution_count": 44,
     "metadata": {},
     "output_type": "execute_result"
    }
   ],
   "source": [
    "eng_lang = eng_lang.drop(['lang','index'], axis = 1)\n",
    "eng_lang"
   ]
  },
  {
   "cell_type": "code",
   "execution_count": 45,
   "metadata": {},
   "outputs": [],
   "source": [
    "#saving cleaned dataset (before gender annotation)\n",
    "eng_lang.to_csv('data_clean_presex.csv',index=False)"
   ]
  },
  {
   "cell_type": "raw",
   "metadata": {},
   "source": [
    "This script produced a cleaned dataset: errors corrected, songs without lyrics or any NAs deleted, languages detected and non-English excluded, year 1968 excluded. Next step: gender annotation"
   ]
  }
 ],
 "metadata": {
  "kernelspec": {
   "display_name": "Python 3",
   "language": "python",
   "name": "python3"
  },
  "language_info": {
   "codemirror_mode": {
    "name": "ipython",
    "version": 3
   },
   "file_extension": ".py",
   "mimetype": "text/x-python",
   "name": "python",
   "nbconvert_exporter": "python",
   "pygments_lexer": "ipython3",
   "version": "3.7.8"
  }
 },
 "nbformat": 4,
 "nbformat_minor": 4
}
