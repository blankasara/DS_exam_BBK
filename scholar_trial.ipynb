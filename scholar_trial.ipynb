{
 "cells": [
  {
   "cell_type": "code",
   "execution_count": 1,
   "metadata": {},
   "outputs": [
    {
     "name": "stdout",
     "output_type": "stream",
     "text": [
      "/bin/bash: line 0: cd: scholar-master: No such file or directory\n"
     ]
    }
   ],
   "source": [
    "!cd scholar-master"
   ]
  },
  {
   "cell_type": "code",
   "execution_count": 2,
   "metadata": {},
   "outputs": [
    {
     "name": "stdout",
     "output_type": "stream",
     "text": [
      "Requirement already satisfied: numpy in /opt/conda/lib/python3.7/site-packages (1.19.1)\n",
      "Requirement already satisfied: scipy in /opt/conda/lib/python3.7/site-packages (1.5.2)\n",
      "Requirement already satisfied: pandas in /opt/conda/lib/python3.7/site-packages (1.1.1)\n",
      "Requirement already satisfied: matplotlib in /opt/conda/lib/python3.7/site-packages (3.2.2)\n",
      "Collecting gensim\n",
      "  Downloading gensim-4.0.1-cp37-cp37m-manylinux1_x86_64.whl (23.9 MB)\n",
      "\u001b[K     |████████████████████████████████| 23.9 MB 3.9 MB/s eta 0:00:01\n",
      "\u001b[31mERROR: Could not find a version that satisfies the requirement os (from versions: none)\u001b[0m\n",
      "\u001b[31mERROR: No matching distribution found for os\u001b[0m\n",
      "\u001b[?25h"
     ]
    }
   ],
   "source": [
    "!pip install numpy scipy pandas matplotlib gensim os json\n"
   ]
  },
  {
   "cell_type": "code",
   "execution_count": 3,
   "metadata": {},
   "outputs": [
    {
     "name": "stdout",
     "output_type": "stream",
     "text": [
      "Collecting torch\n",
      "  Downloading torch-1.8.1-cp37-cp37m-manylinux1_x86_64.whl (804.1 MB)\n",
      "\u001b[K     |████████████▉                   | 321.1 MB 142.1 MB/s eta 0:00:04"
     ]
    },
    {
     "name": "stderr",
     "output_type": "stream",
     "text": [
      "IOPub data rate exceeded.\n",
      "The notebook server will temporarily stop sending output\n",
      "to the client in order to avoid crashing it.\n",
      "To change this limit, set the config variable\n",
      "`--NotebookApp.iopub_data_rate_limit`.\n",
      "\n",
      "Current values:\n",
      "NotebookApp.iopub_data_rate_limit=1000000.0 (bytes/sec)\n",
      "NotebookApp.rate_limit_window=3.0 (secs)\n",
      "\n"
     ]
    },
    {
     "name": "stdout",
     "output_type": "stream",
     "text": [
      "\u001b[K     |██████████████████████▏         | 556.4 MB 148.6 MB/s eta 0:00:02"
     ]
    },
    {
     "name": "stderr",
     "output_type": "stream",
     "text": [
      "IOPub data rate exceeded.\n",
      "The notebook server will temporarily stop sending output\n",
      "to the client in order to avoid crashing it.\n",
      "To change this limit, set the config variable\n",
      "`--NotebookApp.iopub_data_rate_limit`.\n",
      "\n",
      "Current values:\n",
      "NotebookApp.iopub_data_rate_limit=1000000.0 (bytes/sec)\n",
      "NotebookApp.rate_limit_window=3.0 (secs)\n",
      "\n"
     ]
    },
    {
     "name": "stdout",
     "output_type": "stream",
     "text": [
      "\u001b[K     |█████████████████████████████▋  | 742.9 MB 148.8 MB/s eta 0:00:01"
     ]
    },
    {
     "name": "stderr",
     "output_type": "stream",
     "text": [
      "IOPub data rate exceeded.\n",
      "The notebook server will temporarily stop sending output\n",
      "to the client in order to avoid crashing it.\n",
      "To change this limit, set the config variable\n",
      "`--NotebookApp.iopub_data_rate_limit`.\n",
      "\n",
      "Current values:\n",
      "NotebookApp.iopub_data_rate_limit=1000000.0 (bytes/sec)\n",
      "NotebookApp.rate_limit_window=3.0 (secs)\n",
      "\n"
     ]
    },
    {
     "name": "stdout",
     "output_type": "stream",
     "text": [
      "\u001b[K     |████████████████████████████████| 804.1 MB 5.3 kB/s \n",
      "\u001b[?25hRequirement already satisfied: numpy in /opt/conda/lib/python3.7/site-packages (from torch) (1.19.1)\n",
      "Requirement already satisfied: typing-extensions in /opt/conda/lib/python3.7/site-packages (from torch) (3.7.4.2)\n",
      "Installing collected packages: torch\n",
      "Successfully installed torch-1.8.1\n"
     ]
    }
   ],
   "source": [
    "!pip install torch #version 1.8.1 not 0.4"
   ]
  },
  {
   "cell_type": "code",
   "execution_count": 10,
   "metadata": {},
   "outputs": [
    {
     "name": "stdout",
     "output_type": "stream",
     "text": [
      "song : my-elusive-dreams\n",
      "year : 1970\n",
      "artist : bobby-vinton\n",
      "genre : Pop\n",
      "text : you followed me to texas, you followed me to utah, we didn't find it there, so we moved on. you followed me to alabama. things looked good in burmingham. we didn't find it there, so we moved on. i know your tired of following my elusive dreams and scheems. for there only fleeting things. my elusive dreams. you had my child in memphus. i heard of work in nashville. we didn't find it there. so we moved on. to farm in nebraska. to a gold mine in alaska. we didn't find it there. so we moved on. and now we've left alaska. because there was no gold mine. but this time, only two of us move on. now all we have is each other. and a little memory to cling to. and still you won't let me go on alone. i know your tired of following my elusive dreams and scheems. for there only fleeting things. my elusive dreams. for there only fleeting things. my elusive dreams.\n",
      "sex : M\n",
      "ents : (2.884654434066845, 4.161676646706587)\n",
      "absolute_entropy : 2.8846544341\n",
      "prop_unknown_words : 4.1616766467\n",
      "group : 0\n",
      "id : 0\n"
     ]
    }
   ],
   "source": [
    "import os\n",
    "import json\n",
    "with open(os.path.join('group_data.json')) as f:\n",
    "    lines = f.readlines()\n",
    "first_doc = json.loads(lines[0])\n",
    "for key, value in first_doc.items():\n",
    "    print(key, ':', value)"
   ]
  },
  {
   "cell_type": "code",
   "execution_count": 14,
   "metadata": {},
   "outputs": [
    {
     "name": "stdout",
     "output_type": "stream",
     "text": [
      "python preprocess_data.py -h\n",
      "Usage: ipykernel_launcher.py train.jsonlist output_dir\n",
      "\n",
      "Options:\n",
      "  -h, --help            show this help message and exit\n",
      "  --label=LABEL         field(s) to use as label (comma-separated):\n",
      "                        default=none\n",
      "  --test=TEST           Test data (test.jsonlist): default=none\n",
      "  --train-prefix=TRAIN_PREFIX\n",
      "                        Output prefix for training data: default=train\n",
      "  --test-prefix=TEST_PREFIX\n",
      "                        Output prefix for test data: default=test\n",
      "  --stopwords=STOPWORDS\n",
      "                        List of stopwords to exclude [None|mallet|snowball]:\n",
      "                        default=snowball\n",
      "  --min-doc-count=MIN_DOC_COUNT\n",
      "                        Exclude words that occur in less than this number of\n",
      "                        documents\n",
      "  --max-doc-freq=MAX_DOC_FREQ\n",
      "                        Exclude words that occur in more than this proportion\n",
      "                        of documents\n",
      "  --keep-num            Keep tokens made of only numbers: default=False\n",
      "  --keep-alphanum       Keep tokens made of a mixture of letters and numbers:\n",
      "                        default=False\n",
      "  --strip-html          Strip HTML tags: default=False\n",
      "  --no-lower            Do not lowercase text: default=False\n",
      "  --min-length=MIN_LENGTH\n",
      "                        Minimum token length: default=3\n",
      "  --vocab-size=VOCAB_SIZE\n",
      "                        Size of the vocabulary (by most common, following\n",
      "                        above exclusions): default=none\n",
      "  --seed=SEED           Random integer seed (only relevant for choosing test\n",
      "                        set): default=42\n"
     ]
    },
    {
     "ename": "SystemExit",
     "evalue": "0",
     "output_type": "error",
     "traceback": [
      "An exception has occurred, use %tb to see the full traceback.\n",
      "\u001b[0;31mSystemExit\u001b[0m\u001b[0;31m:\u001b[0m 0\n"
     ]
    },
    {
     "name": "stderr",
     "output_type": "stream",
     "text": [
      "/opt/conda/lib/python3.7/site-packages/IPython/core/interactiveshell.py:3425: UserWarning: To exit: use 'exit', 'quit', or Ctrl-D.\n",
      "  warn(\"To exit: use 'exit', 'quit', or Ctrl-D.\", stacklevel=1)\n"
     ]
    }
   ],
   "source": [
    "#import preprocess_data\n",
    "#args = '-h'\n",
    "#print(\"python preprocess_data.py -h\")\n",
    "#preprocess_data.main([args])"
   ]
  },
  {
   "cell_type": "code",
   "execution_count": 37,
   "metadata": {},
   "outputs": [
    {
     "name": "stdout",
     "output_type": "stream",
     "text": [
      "python preprocess_data.py group_data.json prep_new_data_trial --min-doc-count 20 --label sex,artist,genre,year,group --keep-alphanum True\n",
      "Using snowball stopwords\n",
      "Reading data files\n",
      "Found 119366 training documents\n",
      "Found label sex with 2 classes\n",
      "Found label artist with 5162 classes\n",
      "Found label genre with 12 classes\n",
      "Found label year with 47 classes\n",
      "Found label group with 8 classes\n",
      "Parsing 119366 documents\n",
      "Size of full vocabulary=137144\n",
      "Selecting the vocabulary\n",
      "Vocab size after filtering = 18661\n",
      "Final vocab size = 18661\n",
      "Most common words remaining: know just like love now see got one time get\n",
      "Converting to count representations\n",
      "Size of train document-term matrix: (119366, 18661)\n",
      "0 words missing from training data\n",
      "Done!\n"
     ]
    }
   ],
   "source": [
    "import preprocess_data\n",
    "script = 'preprocess_data.py'\n",
    "args = 'group_data.json prep_new_data_trial --min-doc-count 20 --label sex,artist,genre,year,group --keep-alphanum True'\n",
    "print(\"python\", script, args)\n",
    "preprocess_data.main(args.split())"
   ]
  },
  {
   "cell_type": "code",
   "execution_count": 11,
   "metadata": {},
   "outputs": [
    {
     "name": "stdout",
     "output_type": "stream",
     "text": [
      "First few words in the vocbulary:\n",
      "['808', '80s', '84s', '850', '8th', '900', '90s', '911', '9mm', '9th', 'aaa', 'aaaaah', 'aaaah', 'aaah', 'aah', 'aaliyah', 'aaron', 'abandon', 'abandoned', 'abc', 'abcs', 'abdomen', 'abe', 'abel', 'abide', 'abiding', 'abilene', 'abilities', 'ability', 'ablaze', 'able', 'aboard', 'abode', 'abort', 'abortion', 'abortions', 'abound', 'abracadabra', 'abraham', 'abroad', 'absence', 'absent', 'absolute', 'absolutely', 'absolution', 'absorb', 'absorbed', 'abstract', 'absurd', 'abu', '...']\n"
     ]
    }
   ],
   "source": [
    "# load the vocabualry\n",
    "with open(os.path.join('prep_new_data_trial', 'train.vocab.json')) as f:\n",
    "    vocab = json.load(f)\n",
    "print(\"First few words in the vocbulary:\")\n",
    "print(vocab[100:150] + ['...'])"
   ]
  },
  {
   "cell_type": "code",
   "execution_count": 18,
   "metadata": {},
   "outputs": [
    {
     "name": "stdout",
     "output_type": "stream",
     "text": [
      "Start of a covariate file (train.year.csv):\n",
      "   0  1  2  3  4  5  6  7\n",
      "0  1  0  0  0  0  0  0  0\n",
      "1  1  0  0  0  0  0  0  0\n",
      "2  1  0  0  0  0  0  0  0\n",
      "3  1  0  0  0  0  0  0  0\n",
      "4  1  0  0  0  0  0  0  0\n"
     ]
    }
   ],
   "source": [
    "# load a covariate file\n",
    "import pandas as pd\n",
    "print(\"Start of a covariate file (train.year.csv):\")\n",
    "df_year = pd.read_csv(os.path.join('prep_new_data_trial', 'train.year.csv'), header=0, index_col=0)\n",
    "print(df.head())"
   ]
  },
  {
   "cell_type": "code",
   "execution_count": 8,
   "metadata": {},
   "outputs": [
    {
     "name": "stdout",
     "output_type": "stream",
     "text": [
      "Collecting gensim\n",
      "  Using cached gensim-4.0.1-cp37-cp37m-manylinux1_x86_64.whl (23.9 MB)\n",
      "Collecting smart-open>=1.8.1\n",
      "  Downloading smart_open-5.0.0-py3-none-any.whl (56 kB)\n",
      "\u001b[K     |████████████████████████████████| 56 kB 563 kB/s eta 0:00:011\n",
      "\u001b[?25hRequirement already satisfied: scipy>=0.18.1 in /opt/conda/lib/python3.7/site-packages (from gensim) (1.5.2)\n",
      "Requirement already satisfied: numpy>=1.11.3 in /opt/conda/lib/python3.7/site-packages (from gensim) (1.19.1)\n",
      "Installing collected packages: smart-open, gensim\n",
      "Successfully installed gensim-4.0.1 smart-open-5.0.0\n"
     ]
    }
   ],
   "source": [
    "!pip install gensim"
   ]
  },
  {
   "cell_type": "raw",
   "metadata": {},
   "source": [
    "## FIRST MODEL, SEX AS LABEL, NO COVAR, 10 TOPIC"
   ]
  },
  {
   "cell_type": "code",
   "execution_count": 9,
   "metadata": {},
   "outputs": [
    {
     "name": "stderr",
     "output_type": "stream",
     "text": [
      "/opt/conda/lib/python3.7/site-packages/gensim/similarities/__init__.py:15: UserWarning: The gensim.similarities.levenshtein submodule is disabled, because the optional Levenshtein package <https://pypi.org/project/python-Levenshtein/> is unavailable. Install Levenhstein (e.g. `pip install python-Levenshtein`) to suppress this warning.\n",
      "  warnings.warn(msg)\n"
     ]
    },
    {
     "name": "stdout",
     "output_type": "stream",
     "text": [
      "python run_scholar.py prep_new_data_trial -k 10 --epochs 50 --dev-folds 10 --seed 42 --labels sex -o simple\n",
      "Loading data\n",
      "Loaded 119366 documents with 18661 features\n",
      "Found 119356 non-empty documents\n",
      "Loading labels from prep_new_data_trial/train.sex.csv\n",
      "Found 2 labels\n",
      "Train label proportions: [0.27682731 0.72317269]\n",
      "Computing background frequencies\n",
      "Min/max word counts in training data: 14 180396\n",
      "Network architecture:\n",
      "embedding_dim: 300\n",
      "n_topics: 10\n",
      "vocab_size: 18661\n",
      "label_type: None\n",
      "n_labels: 2\n",
      "n_prior_covars: 0\n",
      "n_topic_covars: 0\n",
      "l1_beta_reg: 0.0\n",
      "l1_beta_c_reg: 0.0\n",
      "l1_beta_ci_reg: 0.0\n",
      "l2_prior_reg: 0.0\n",
      "classifier_layers: 1\n",
      "use_interactions: False\n",
      "Optimizing full model\n",
      "Epoch: 10 ; cost = 894.898573447 ; training accuracy (noisy) = 0.719449642\n",
      "Epoch: 10; Dev perplexity = 1403.9571; Dev accuracy = 0.7215\n",
      "Epoch: 20 ; cost = 897.992596944 ; training accuracy (noisy) = 0.722754396\n",
      "Epoch: 20; Dev perplexity = 1420.9598; Dev accuracy = 0.7220\n",
      "Epoch: 30 ; cost = 901.114146007 ; training accuracy (noisy) = 0.724169390\n",
      "Epoch: 30; Dev perplexity = 1398.2188; Dev accuracy = 0.7226\n",
      "Epoch: 40 ; cost = 897.446660452 ; training accuracy (noisy) = 0.723024362\n",
      "Epoch: 40; Dev perplexity = 1389.5840; Dev accuracy = 0.7226\n",
      "Background frequencies of top words:\n",
      "love like know just got get now one see time\n",
      "[0.0136489  0.01343577 0.01273273 0.01143946 0.00969131 0.00943687\n",
      " 0.00863577 0.00712664 0.00683996 0.0066751 ]\n",
      "Topics:\n",
      "0: mistakes believing nothings pieces answers yesterday survive mend  / brown dick puerto wit chicken corn mack fat ; sparsity=0.0000\n",
      "1: babe baby lovin ooh love darling darlin loving  / rapper rappers hoes son dick trunk uncle rims ; sparsity=0.0000\n",
      "2: yuh nuh inna dem seh waan haffi tek  / memory goodbye tears knew loved shared dreaming felt ; sparsity=0.0001\n",
      "3: thy shepherds redeeming rejoices thee proclaim radiant infant  / ass gotta dick shit bitch fuckin fuck doin ; sparsity=0.0000\n",
      "4: yuletide chestnuts nipping tots sleigh carols eskimos christmas  / fuckin fuck ass shit bust outta spit motherfuckin ; sparsity=0.0000\n",
      "5: tennessee cowboy lonesome highway railroad train blues freight  / fuck nigga niggas rappers shit wit verse bitches ; sparsity=0.0000\n",
      "6: shawty vip club sexy booty gucci shorty pussy  / cry cried tears died war fought loved zappa ; sparsity=0.0000\n",
      "7: killah starks raekwon mcs ghostface eminem lyrical staten  / shepherds lonely lord goodbye someday lovin bethlehem joy ; sparsity=0.0000\n",
      "8: krayzie niggaz layzie bizzy thug tha thugs dmx  / dancing burning zappa saxophone keyboards falling sherwood moonlight ; sparsity=0.0000\n",
      "9: keyboards zappa vocals sherwood percussion underwood saxophone que  / flipmode sky shine sun sleigh christmas niggas snow ; sparsity=0.0001\n",
      "sparsity in topics = 0.0000\n",
      "Dev perplexity = 1344.7145\n",
      "Predicting labels\n",
      "train accuracy on labels = 0.7232\n",
      "dev accuracy on labels = 0.7226\n",
      "Label probabilities based on topics\n",
      "Labels: F M\n",
      "0: 0.4084 0.5916 \n",
      "1: 0.4106 0.5894 \n",
      "2: 0.2563 0.7437 \n",
      "3: 0.3849 0.6151 \n",
      "4: 0.3473 0.6527 \n",
      "5: 0.1503 0.8497 \n",
      "6: 0.1969 0.8031 \n",
      "7: 0.0359 0.9641 \n",
      "8: 0.0141 0.9859 \n",
      "9: 0.3719 0.6281 \n",
      "Saving document representations\n"
     ]
    }
   ],
   "source": [
    "import run_scholar\n",
    "script = 'run_scholar.py'\n",
    "args = 'prep_new_data_trial -k 10 --epochs 50 --dev-folds 10 --seed 42 --labels sex -o simple'\n",
    "print(\"python\", script, args)\n",
    "run_scholar.main(args.split())"
   ]
  },
  {
   "cell_type": "code",
   "execution_count": 30,
   "metadata": {},
   "outputs": [
    {
     "name": "stdout",
     "output_type": "stream",
     "text": [
      "love 0.013648898\n",
      "like 0.013435767\n",
      "know 0.0127327265\n",
      "just 0.011439456\n",
      "got 0.009691311\n",
      "get 0.009436867\n",
      "now 0.00863577\n",
      "one 0.0071266405\n",
      "see 0.00683996\n",
      "time 0.0066750953\n",
      "baby 0.0066231936\n",
      "never 0.0064957803\n",
      "want 0.0061679427\n",
      "yeah 0.0060709454\n",
      "cause 0.005998689\n"
     ]
    }
   ],
   "source": [
    "#import json\n",
    "#import numpy as np\n",
    "\n",
    "# load the background log-frequencies\n",
    "#bg = np.load('output/bg.npz')['bg']\n",
    "\n",
    "# load the vocabualry\n",
    "#with open('output/vocab.json') as f:\n",
    "#    vocab = json.load(f)\n",
    "\n",
    "# sort terms by log-frequency\n",
    "#order = np.argsort(bg)\n",
    "\n",
    "# print the most common words \n",
    "#for i in range(1, 16):\n",
    "#    index = order[-i]\n",
    "#    print(vocab[index], np.exp(bg[index]))"
   ]
  },
  {
   "cell_type": "code",
   "execution_count": 32,
   "metadata": {},
   "outputs": [
    {
     "name": "stdout",
     "output_type": "stream",
     "text": [
      "0: mistakes believing nothings pieces answers yesterday survive mend losing fading  / brown dick puerto wit chicken corn mack fat french mama ; sparsity=0.0000\n",
      "1: babe baby lovin ooh love darling darlin loving arms kiss  / rapper rappers hoes son dick trunk uncle rims nuts pen ; sparsity=0.0000\n",
      "2: yuh nuh inna dem seh waan haffi tek deh pon  / memory goodbye tears knew loved shared dreaming felt audemar thinking ; sparsity=0.0001\n",
      "3: thy shepherds redeeming rejoices thee proclaim radiant infant bethlehem hosts  / ass gotta dick shit bitch fuckin fuck doin nigga aint ; sparsity=0.0000\n",
      "4: yuletide chestnuts nipping tots sleigh carols eskimos christmas merry mistletoe  / fuckin fuck ass shit bust outta spit motherfuckin wit dick ; sparsity=0.0000\n",
      "5: tennessee cowboy lonesome highway railroad train blues freight river whiskey  / fuck nigga niggas rappers shit wit verse bitches flipmode bitch ; sparsity=0.0000\n",
      "6: shawty vip club sexy booty gucci shorty pussy prada mami  / cry cried tears died war fought loved zappa lord strength ; sparsity=0.0000\n",
      "7: killah starks raekwon mcs ghostface eminem lyrical staten canibus theodore  / shepherds lonely lord goodbye someday lovin bethlehem joy troubles sing ; sparsity=0.0000\n",
      "8: krayzie niggaz layzie bizzy thug tha thugs dmx bustas hustlin  / dancing burning zappa saxophone keyboards falling sherwood moonlight estrada darling ; sparsity=0.0000\n",
      "9: keyboards zappa vocals sherwood percussion underwood saxophone que estrada preston  / flipmode sky shine sun sleigh christmas niggas snow fire light ; sparsity=0.0001\n"
     ]
    }
   ],
   "source": [
    "#from run_scholar import print_top_words\n",
    "\n",
    "# load the stored (K x V) topic matrix (stored in a compressed numpy format)\n",
    "#beta = np.load(os.path.join('output', 'beta.npz'))['beta']\n",
    "#print_top_words(beta, vocab, n_pos=10, n_neg=10);"
   ]
  },
  {
   "cell_type": "code",
   "execution_count": null,
   "metadata": {},
   "outputs": [],
   "source": [
    "SECOND MODEL, SEX AS LABEL, GROUPS AS COVAR"
   ]
  },
  {
   "cell_type": "code",
   "execution_count": 39,
   "metadata": {},
   "outputs": [
    {
     "name": "stdout",
     "output_type": "stream",
     "text": [
      "python run_scholar.py prep_new_data_trial -k 15 --epochs 80 --dev-folds 10 --seed 88 --topic-covars group --labels sex --interactions\n",
      "Loading data\n",
      "Loaded 119366 documents with 18661 features\n",
      "Found 119356 non-empty documents\n",
      "Loading labels from prep_new_data_trial/train.sex.csv\n",
      "Found 2 labels\n",
      "Loading covariates from prep_new_data_trial/train.group.csv\n",
      "Train label proportions: [0.27682731 0.72317269]\n",
      "Computing background frequencies\n",
      "Min/max word counts in training data: 15 180454\n",
      "Network architecture:\n",
      "embedding_dim: 300\n",
      "n_topics: 15\n",
      "vocab_size: 18661\n",
      "label_type: None\n",
      "n_labels: 2\n",
      "n_prior_covars: 0\n",
      "n_topic_covars: 8\n",
      "l1_beta_reg: 0.0\n",
      "l1_beta_c_reg: 0.0\n",
      "l1_beta_ci_reg: 0.0\n",
      "l2_prior_reg: 0.0\n",
      "classifier_layers: 1\n",
      "use_interactions: True\n",
      "Optimizing full model\n",
      "Epoch: 10 ; cost = 890.232533508 ; training accuracy (noisy) = 0.720920490\n",
      "Epoch: 10; Dev perplexity = 1341.4011; Dev accuracy = 0.7234\n",
      "Epoch: 20 ; cost = 887.535381084 ; training accuracy (noisy) = 0.721227693\n",
      "Epoch: 20; Dev perplexity = 1303.3981; Dev accuracy = 0.7244\n",
      "Epoch: 30 ; cost = 889.626019931 ; training accuracy (noisy) = 0.723517748\n",
      "Epoch: 30; Dev perplexity = 1313.2778; Dev accuracy = 0.7246\n",
      "Epoch: 40 ; cost = 884.316852481 ; training accuracy (noisy) = 0.723769095\n",
      "Epoch: 40; Dev perplexity = 1322.0686; Dev accuracy = 0.7245\n",
      "Epoch: 50 ; cost = 885.527137907 ; training accuracy (noisy) = 0.721832789\n",
      "Epoch: 50; Dev perplexity = 1327.6952; Dev accuracy = 0.7245\n",
      "Epoch: 60 ; cost = 893.977894811 ; training accuracy (noisy) = 0.723592221\n",
      "Epoch: 60; Dev perplexity = 1338.7309; Dev accuracy = 0.7245\n",
      "Epoch: 70 ; cost = 887.600704798 ; training accuracy (noisy) = 0.722298247\n",
      "Epoch: 70; Dev perplexity = 1274.2434; Dev accuracy = 0.7245\n",
      "Background frequencies of top words:\n",
      "love like know just got get now one see time\n",
      "[0.01365523 0.01338984 0.01273355 0.01142427 0.00971047 0.00940869\n",
      " 0.00862133 0.00712008 0.00684486 0.00665909]\n",
      "Topics:\n",
      "0: autumn reverie september bluebirds stardust spring dwindle april  / gotta money outta dirty sex system yeah goodies ; sparsity=0.0000\n",
      "1: cmere underwood pedestrians aynsley flunk estrada zappa sherwood  / yuh inna waan mek weh krayzie weary layzie ; sparsity=0.0001\n",
      "2: bethlehem exultation manger christ choirs shepherds hark joyful  / niggas ass shots shit jeans bitch ammo tires ; sparsity=0.0000\n",
      "3: ooh lovin desire doo loves babe higher love  / dem police dans cris wid caan fucked retarded ; sparsity=0.0000\n",
      "4: georgia tennessee blues lonesome railroad memphis country nashville  / lyrical fucking mic rappers rapper fuck tots chestnuts ; sparsity=0.0000\n",
      "5: pum bang rum rummy tums killah lox kiddie  / wonderful nipping yuletide paradise beautiful christmases moments moment ; sparsity=0.0001\n",
      "6: playa ballin yup vvs bezel fasho dubs swangers  / zappa seh caan keyboards mek vai waan wackerman ; sparsity=0.0000\n",
      "7: goodbye sorry anymore talk fool wasting unsaid lies  / niggas bass weed rock percussion land bitch sur ; sparsity=0.0000\n",
      "8: jingle tums rummy claus rooty kiddie reindeers toddle  / niggas nigga nuh dem que neva huh comme ; sparsity=0.0000\n",
      "9: pero estoy como esta por que quiero voy  / christmas chestnuts chased snow sleigh christmases yuletide rummy ; sparsity=0.0000\n",
      "10: eazy flipmode krayzie funky layzie thugsta ren iriscience  / christmas beautiful tidings dreaming darling christmases mistletoe chestnuts ; sparsity=0.0000\n",
      "11: tots nipping eskimos cest est roasting sur monde  / baby fuckin feelin layzie motherfuckin shady hoe thinkin ; sparsity=0.0000\n",
      "12: infant redeeming yon radiant quake hosts thy shineth  / yeah dem everybody nuh nipping yuh woo yuletide ; sparsity=0.0000\n",
      "13: forgive hurt mama without sorry cry daddy bit  / bass speakers bazooka southern rock yellow percussion rhythm ; sparsity=0.0000\n",
      "14: crashing spinning turning darkness running moving edge alive  / boo filename dat actin christmas playexe talkin playin ; sparsity=0.0000\n",
      "sparsity in topics = 0.0000\n",
      "Covariate deviations:\n",
      "0: gordon silks chews scientists dykes pleading leprechaun poo  / intro nigga forgotten niggas grip writers rid originally ; sparsity=0.0000\n",
      "1: farce united walkie africans pagan dawns germs become  / intro type nigga spit dropped writers hop niggas ; sparsity=0.0000\n",
      "2: jerome favourite hummin pulse guessed exists fashionable bubbling  / verse intro nigga dropped hop writers wrapped grip ; sparsity=0.0000\n",
      "3: barricade raoul hobo francs bravo christine leaped cleverly  / intro nigga writers niggas dice publishing originally alternative ; sparsity=0.0000\n",
      "4: adrock mca fadeout shamrock openly potnah vallejo irish  / alternative originally sorta publishing sox assure 2nd quickest ; sparsity=0.0000\n",
      "5: muthaphukkin youe charli cakin wheezy baboon deux edi  / writers originally alternative publishing sorta 2nd assure sox ; sparsity=0.0000\n",
      "6: pum triumphant javais syne noel tout tes lowell  / zoovier bando 1738 xans actavis dex wap selfie ; sparsity=0.0000\n",
      "7: commas 1738 ayy fetty hotline forreal zoovier dex  / originally alternative sox assure blistered dickie flees sleek ; sparsity=0.0001\n",
      "sparsity in covariates = 0.0000\n",
      "Covariate interactions\n",
      "(120, 18661)\n",
      "0:0: swift daughter called shift bodys spawn shifting racing  / glass nose pen dress chest schemes passes bar ; sparsity=0.0000\n",
      "0:1: filled edges kick letem scanned joy brim favorites  / yall roads compare seeds stolen figure surely footsteps ; sparsity=0.0000\n",
      "0:2: fences sweating splinters worlds shape attention waits intentions  / lifes stare stick hopeless tongue silence ocean roses ; sparsity=0.0000\n",
      "0:3: plan rambling newborn nile cuttin fireball tahiti wandering  / command happily twenty means points worries stamps recorded ; sparsity=0.0000\n",
      "0:4: artist album gay unwound dew eye johnson looks  / confide grip scarred grab september independent history stolen ; sparsity=0.0000\n",
      "0:5: qui shallow une dawg jay manner rookie private  / reaches natures connect figures mention paid stallion waving ; sparsity=0.0000\n",
      "0:6: memries paris snowman blossoms springtime dans jamais les  / gotta goodies dem suck evil sex loaded dickie ; sparsity=0.0001\n",
      "0:7: lovely caravan mystry haunts dwindle exciting lengthen entrancing  / stacking pitt inspired marijuana nat gross printed davis ; sparsity=0.0000\n",
      "1:0: line wire cane creature paradise robert scene fast  / bitches opening station forest dick bucks belonged fuckin ; sparsity=0.0000\n",
      "1:1: cleveland rivers draw silhouettes trees pack woh cloak  / rap bunch playin decide within rule trash ray ; sparsity=0.0000\n",
      "1:2: brings men landlords reality matters cream aboard tea  / earth track block crew record dress guys rappers ; sparsity=0.0000\n",
      "1:3: wig puts production baffled frisco indeed immediately 5th  / flows drake inner spitting fourth phase rappers holler ; sparsity=0.0000\n",
      "1:4: silk fallen swingin rockin ave gum places chewin  / dave rapper shoe fam grill asks auto dimes ; sparsity=0.0000\n",
      "1:5: overtime workin charli served ungrateful suffering earned shits  / tool liquor task gut fiends homie anti competition ; sparsity=0.0000\n",
      "1:6: sherwood estrada zappa keyboards gardner woodwinds preston underwood  / haffi layzie krayzie yuh waan mek ciel inna ; sparsity=0.0000\n",
      "1:7: bazooka inventing apes mitten splashed celebratin rabies trilogy  / creamy hines terminator symbolize engraved stuffin mobs blizzard ; sparsity=0.0000\n",
      "2:0: kept sorrows cheaper socks snowy jar turnin half  / nose decision gathered attention princess finish conscious prison ; sparsity=0.0000\n",
      "2:1: mouth crib stretch ray daydreams breaking school ago  / fancy bird frown bodies victory showin dead winter ; sparsity=0.0000\n",
      "2:2: hummin bin energy bringing pretty thumbs bring jerome  / spot holds stomach beside seek exists favourite sounds ; sparsity=0.0000\n",
      "2:3: trash barricade sunrise boy goes spots ending hundred  / branches eating watches leading forms flew sat pants ; sparsity=0.0000\n",
      "2:4: case waits dying cars guide brains perceive calling  / flyin roar prepare stomach untold overhead plight floors ; sparsity=0.0000\n",
      "2:5: leaf humble shone sickness chestnuts zoom christ snares  / task outro banging pots gleam rid continued dodge ; sparsity=0.0000\n",
      "2:6: joyful herald triumphant hark choirs appearing reconciled tidings  / niggas bitch ammo shots shorty ass motha residue ; sparsity=0.0000\n",
      "2:7: worship blaine directions fulfillment merry greater yuletide cutest  / axel hauling lair flipping switching article dealing fulfilling ; sparsity=0.0000\n",
      "3:0: sweeping remains divine stove join smiles burdens hovers  / attention cop complete pocket stands market mix couple ; sparsity=0.0000\n",
      "3:1: thousand barren darkest valley planned getting endlessly playing  / taken breaks legs chest probably guaranteed card trees ; sparsity=0.0000\n",
      "3:2: spit surely flossin strangled ball yes levy appears  / lifes sittin gold afternoon reality teeth confusion crush ; sparsity=0.0000\n",
      "3:3: missed kickin defeated tool left russell parked ribbon  / staying opens means spot biggest itd pistol building ; sparsity=0.0000\n",
      "3:4: docks coat got woman nose message tommys difference  / fills join secure probably double featuring tastes spotted ; sparsity=0.0000\n",
      "3:5: journeys responsible eternal hits fiction grindin cos futures  / tastes grin screamin plus condition dodge sposed necklace ; sparsity=0.0000\n",
      "3:6: goodwyn myles published gimme super babyface desire boom  / mal comme israel des collapsed bitches cris police ; sparsity=0.0000\n",
      "3:7: mending bang cavalli quarrel suppertime jumpsuit dangerous midnight  / bandages snicker revolves liverpool 3rd 1987 strangle pause ; sparsity=0.0000\n",
      "4:0: pull single wanna rice host choppin wipe bridge  / chest shift eatin camp cane tea gathered missin ; sparsity=0.0000\n",
      "4:1: sit backdoor info blows shiver snowin phase couple  / pearl settle worries card split ticket melts roads ; sparsity=0.0000\n",
      "4:2: teach yall play amazed bein teaching erase replace  / lifes spot standin fought either path stomach order ; sparsity=0.0000\n",
      "4:3: solution rounder paws split threes brakes leader employed  / foul ate blades sho hood bullet slapped selling ; sparsity=0.0001\n",
      "4:4: competition buckle harder blow interest shells weave performing  / rear climbin sippin fills seats farmer hop roof ; sparsity=0.0000\n",
      "4:5: roadside woo reply harmonica cameras brushed misdemeanor gas  / smith thomas beans rid fort balls bars sacrificed ; sparsity=0.0000\n",
      "4:6: cowboy broncs travelin kentucky spurs bronc wyoming mexico  / lyrical rappers lyrically voltron mcs emcees chemist focused ; sparsity=0.0000\n",
      "4:7: motorcycles whitney brightened louis sophisticated huggin whoa blaine  / blouse hamburger immigration scout noises terminator fiddler renegades ; sparsity=0.0000\n",
      "5:0: scientists shiny corpses sort occasional fevers rocknroll downtown  / pools calls nigga coke bottom niggas solve dick ; sparsity=0.0000\n",
      "5:1: nearly beauty consideration folks motion sleeps looks complete  / brains lap repeated palms woods forgot present flags ; sparsity=0.0000\n",
      "5:2: face else guilty cooler grace worked drug seem  / sold til nigga bitch throat warning die flows ; sparsity=0.0000\n",
      "5:3: poked louder sits waited horse wrench bald moustache  / nigga tool niggas seeds cuz foul barely squeeze ; sparsity=0.0000\n",
      "5:4: suddenly maid hated reached highly arrived celebrity jammy  / tinted amazin exercise fills jazzy roman spots contract ; sparsity=0.0000\n",
      "5:5: week slowin detective strait fakin diary plastic blasted  / sports estate banging sprayed phones tattoos fin tec ; sparsity=0.0000\n",
      "5:6: sheek toney haffi ghostface pum theodore raekwon ruff  / yuletide harmony wonderful noel beautiful nipping cette attain ; sparsity=0.0000\n",
      "5:7: keef 16s rarri thot guap martyrs tadoe mitch  / ingredients autographs terminator heir grimace trauma brainiac vulgar ; sparsity=0.0000\n",
      "6:0: aint poor miles wreck canyons las train frame  / nigga bucks bitches finish dudes collar rocks niggas ; sparsity=0.0000\n",
      "6:1: bare flee whey live buried bury complicate signs  / double chest draws nigga stretch hypocrites bitches food ; sparsity=0.0000\n",
      "6:2: discover bin bring winds bringing home fading fuss  / spot gas play nigga stomach sittin cooler order ; sparsity=0.0000\n",
      "6:3: found sown thought tunes although seeds excuse bobby  / diet nigga niggas overkill hood congress bitches forms ; sparsity=0.0000\n",
      "6:4: uhh fools potnah oil funk batch bugs makes  / tilt intro spots phones advance paul connect bangin ; sparsity=0.0000\n",
      "6:5: fags stripped solitary faggot fooled rod illest asses  / ben smellin charles baseball heavyweight sony craps winning ; sparsity=0.0000\n",
      "6:6: rasaq swangs chamillionaire chamillion swangers swishahouse trae magno  / steward preston zappa caan piccolo keyboards vai wackerman ; sparsity=0.0000\n",
      "6:7: 1738 fetty bando monty wap zoovier percocets rollie  / erybody squadron pens nibble boils cutty lik cham ; sparsity=0.0000\n",
      "7:0: brother wars unreal negative troubles shared anything sought  / dice ache pen command third chest damn solve ; sparsity=0.0000\n",
      "7:1: crack ringing smoke rich align nailed lot hour  / chest parts figure taken brother wasting beauty become ; sparsity=0.0000\n",
      "7:2: stockings tossed pounds fakes killed nights eiffel spread  / stomach spot signs lifes either slipped brought breathing ; sparsity=0.0000\n",
      "7:3: cursed magician infinity tools hallway anger scott eyelashes  / eating lame parted selfish spitting inner pile cell ; sparsity=0.0000\n",
      "7:4: forgotten nig violets solutions repeatedly wild frightened pumpin  / tastes fills advance amazin tilt faking received curtains ; sparsity=0.0000\n",
      "7:5: sad rimmed totally hugged creepin intelligence paved inspiration  / stallion stretch reaches banging butts testing ate rid ; sparsity=0.0000\n",
      "7:6: deceiving unsaid easier chamillionaire koopa wasting lies cared  / niggas bass weed percussion brock des vocals comme ; sparsity=0.0000\n",
      "7:7: hotline bling parachute pulling revelation weight martyrs mysterious  / drummers quaking charlotte premises inherit tuxedo opposition fin ; sparsity=0.0000\n",
      "8:0: whose ziggy couple wonderful played characters dolly rude  / slide stepped rough yell lawn pen hop clearly ; sparsity=0.0000\n",
      "8:1: voice frown skunk feeding reached rubbed distant end  / playin yard classic reap park kicked college children ; sparsity=0.0000\n",
      "8:2: sold child question treasure beast mark charge serve  / passed 000 record also dinner trucks palm goods ; sparsity=0.0000\n",
      "8:3: huh sailors barking didn blowin companions gangsters stained  / tries seeds worries bears triple screaming flashin rug ; sparsity=0.0000\n",
      "8:4: def moet ave mca case watch adrock juice  / stolen parts spotted seats cease competition pal grill ; sparsity=0.0000\n",
      "8:5: california blinking contest starin thirty battle dreary spills  / grits classic shocked stamp leg yak loosin boxes ; sparsity=0.0000\n",
      "8:6: jingle sleighing frosty workshop toyland toots prancing jingling  / nuh niggas gangstas honcho benzs neva dem che ; sparsity=0.0000\n",
      "8:7: tailgate shark germ peaceful vixen blitzen claus santa  / ante 12s brainless matt tans bitchin shaw estelle ; sparsity=0.0000\n",
      "9:0: raised sixteen barrel subway tender starve spawn expect  / proper favorite fit cop skinny chest attention lobby ; sparsity=0.0000\n",
      "9:1: essence forced smokers entitled men showed forgot present  / finally playin winding singin bottle candles tables goose ; sparsity=0.0000\n",
      "9:2: done nine mother handed bin failure eight hopped  / mad afternoon fat stealing chill sittin flows city ; sparsity=0.0000\n",
      "9:3: tread power estate corner rug dealin train sounded  / bodies biggest dozen fantastic cuz bathroom card disappears ; sparsity=0.0000\n",
      "9:4: ivy sweater limits league silk books waiting chewin  / crackin intro cuban coupe fills telly cookin major ; sparsity=0.0000\n",
      "9:5: fronted basic cop force dawgs banging jackson spendin  / ate charles cigars cola ben dodge hula baseball ; sparsity=0.0000\n",
      "9:6: estas tienes estar siento sabes mami por format  / mechanics godzilla yuletide christmas pawns homicidal stranglin rummy ; sparsity=0.0000\n",
      "9:7: tints tãº bucked gripping twerk que ratchets clap  / canopy hannibal containing jon steel diarrhea mcdonalds abusive ; sparsity=0.0000\n",
      "10:0: photograph stains guarantee worthwhile ooh intense chest hazy  / universal product nigga glass niggas final stands bottom ; sparsity=0.0000\n",
      "10:1: fathers someones apart gypsy reality learns children towering  / parts attention brains nigga crack hypocrites niggas probably ; sparsity=0.0000\n",
      "10:2: senses join footprint marines nig warrants penetration sewer  / truck nigga niggas anybody eighty going beyond block ; sparsity=0.0000\n",
      "10:3: armies met masters bastard spy pup driving wounded  / screen hittin mush curb nigga eighth funeral niggas ; sparsity=0.0000\n",
      "10:4: button miller mca eazy frame tweakin goggles grabbed  / fills finer gotti boil patient hon clan cigar ; sparsity=0.0000\n",
      "10:5: malone strangers eagle str8 completely snitched outlawz edi  / vicious probation cabs posed itchin male percent drawer ; sparsity=0.0000\n",
      "10:6: krayzie flipmode layzie iriscience dilated bizzy thugsta aiyyo  / tidings filename dreaming christmases turnt playexe noel mistletoe ; sparsity=0.0000\n",
      "10:7: twitter bermuda suggesting davis purp forreal brazil yoga  / tuxedo sess boos bladder eastwood nfl subconscious wooooo ; sparsity=0.0000\n",
      "11:0: sucked harm sal screwed debbie susie proof side  / suffer opening humble product third eating smash sirens ; sparsity=0.0000\n",
      "11:1: bullet silhouettes blinds breaks target pieces walkie couples  / grip cars babies bunch closed frown neighbors hour ; sparsity=0.0000\n",
      "11:2: lying cross stare dog pills saints sinners army  / final fifty helps pot pays history damn shop ; sparsity=0.0000\n",
      "11:3: crawlin gutter phony angels yer lady smoke robbery  / stretch inner fbi satin spells command tony stomping ; sparsity=0.0001\n",
      "11:4: nuts fears circuit booked funerals disappears cable sacks  / vicious intro floors houses flyin highly target anti ; sparsity=0.0000\n",
      "11:5: hugs contest casualty disorderly issue une pension 100  / possibility reaches amongst corporate testing roaches banging profit ; sparsity=0.0000\n",
      "11:6: sherwood gardner estrada baritone tripp tenor motorhead zappa  / layzie fuckin screamin muthafuckin hailie shady hollin fallin ; sparsity=0.0000\n",
      "11:7: lester spilt stomachs logan fairer educate cory crackle  / starred eject turban pitt minister advertising terminator gymnastics ; sparsity=0.0000\n",
      "12:0: tastes hovers logic anymore kneels silver lanes roads  / spine bled neck pen pools stands finest gentlemen ; sparsity=0.0000\n",
      "12:1: game breaks recalls couples speed steps statements revolution  / seeds double chest devil mix brew become victory ; sparsity=0.0000\n",
      "12:2: going europe france steam male germany stems curses  / path grace passed sorta fat crowds pool screaming ; sparsity=0.0000\n",
      "12:3: pockets christine bull echo phantom chimes taking neath  / seeds approach phase tore japan wisdom daily similar ; sparsity=0.0000\n",
      "12:4: aside poses escobar maybe sticking whattup ups threw  / fills floors terror roman callin combine spots dragon ; sparsity=0.0000\n",
      "12:5: worldwide homeboy discussion bitterness homey animosity fiends captivated  / banging continued painful glare leg pool tax dodge ; sparsity=0.0000\n",
      "12:6: arb filename playexe hae document frae boundary hosts  / tots nuh dem yuh chamillitary ryders gwaan woo ; sparsity=0.0000\n",
      "12:7: starks caravan mystry shineth contaminated psychology structure battlefield  / unreleased chemist gust brainless saran roster monitor stilts ; sparsity=0.0000\n",
      "13:0: plan astrology pity holler market five somewhat buffalo  / air dudes command damn success sleeping begins became ; sparsity=0.0000\n",
      "13:1: become winding winter grief search finally overcome rubber  / cap taken written brighter crush universe wandered owns ; sparsity=0.0000\n",
      "13:2: wearing clothes scene yard around letters food smelled  / sand prepared block arrive stomach fuck incomprehensible holds ; sparsity=0.0000\n",
      "13:3: students reborn barricade spots various contains danger armies  / trash missin eating waits nursery charming stupid slap ; sparsity=0.0000\n",
      "13:4: asleep deny blinds docks 12th ducks tommy pat  / recorded asks bent floors crooks fries whatll crew ; sparsity=0.0000\n",
      "13:5: shits snakes automatic roof tuned inside peelin mountains  / source suffering grinnin hump landed vicious jokin balance ; sparsity=0.0000\n",
      "13:6: thug relationship selfishly mom sacrifices dad stressin bit  / speakers bass bazooka percussion starlight yellow spicy derby ; sparsity=0.0000\n",
      "13:7: ovo aunties fucked dental feat boosie nah legally  / unreleased spike lightening mainly jockin character parton grabbin ; sparsity=0.0001\n",
      "14:0: fat folks tasted sour men murmur calls flow  / clearly itd reached wanna dice attention slide skinny ; sparsity=0.0000\n",
      "14:1: seemed asked rubbed outside wail horror stole stupid  / beauty secrets figure enter become attention claimed roads ; sparsity=0.0000\n",
      "14:2: talking ask lane gather graze games spade knife  / stomach brings knees unknown spot handed guessed favourite ; sparsity=0.0000\n",
      "14:3: bullets won border dominion beam humble east fan  / enter screen anchor worries knees tries contagious eternal ; sparsity=0.0000\n",
      "14:4: fossil rest burden masturbate groovin mentality opposite wars  / fills flooded swollen pearls grip heartless marble case ; sparsity=0.0000\n",
      "14:5: extreme spectacular hugs disrespect cherish meditate invite receive  / amongst reaches scattered liberty forces character stale fangs ; sparsity=0.0000\n",
      "14:6: dahl mikael onwards blackened runaway fly sunlight trapped  / filename playexe dat arb durin matta boo niggaz ; sparsity=0.0000\n",
      "14:7: monsters hysteria constellations imaginary coz atlantis worlds shallow  / theses clearin bangs clad fiddles structure soothing somethin ; sparsity=0.0000\n",
      "sparsity in covariate interactions = 0.0000\n",
      "Dev perplexity = 1268.5987\n",
      "Predicting labels\n",
      "train accuracy on labels = 0.7230\n",
      "dev accuracy on labels = 0.7245\n",
      "Label probabilities based on topics\n",
      "Labels: F M\n",
      "0: 0.3762 0.6238 \n",
      "1: 0.0131 0.9869 \n",
      "2: 0.4566 0.5434 \n",
      "3: 0.4769 0.5231 \n",
      "4: 0.1188 0.8812 \n",
      "5: 0.0148 0.9852 \n",
      "6: 0.0044 0.9956 \n",
      "7: 0.4661 0.5339 \n",
      "8: 0.2198 0.7802 \n",
      "9: 0.3515 0.6485 \n",
      "10: 0.0037 0.9963 \n",
      "11: 0.2349 0.7651 \n",
      "12: 0.3196 0.6804 \n",
      "13: 0.2711 0.7289 \n",
      "14: 0.3836 0.6164 \n",
      "Saving document representations\n"
     ]
    }
   ],
   "source": [
    "#adding covars\n",
    "import run_scholar\n",
    "script = 'run_scholar.py'\n",
    "args = 'prep_new_data_trial -k 15 --epochs 80 --dev-folds 10 --seed 88 --topic-covars group --labels sex --interactions'\n",
    "print(\"python\", script, args)\n",
    "run_scholar.main(args.split())"
   ]
  },
  {
   "cell_type": "code",
   "execution_count": 56,
   "metadata": {},
   "outputs": [
    {
     "name": "stdout",
     "output_type": "stream",
     "text": [
      "0: autumn reverie september bluebirds stardust spring dwindle april melody moonlit  / gotta money outta dirty sex system yeah goodies sick nipping ; sparsity=0.0000\n",
      "1: cmere underwood pedestrians aynsley flunk estrada zappa sherwood keyboards vocals  / yuh inna waan mek weh krayzie weary layzie cry oer ; sparsity=0.0001\n",
      "2: bethlehem exultation manger christ choirs shepherds hark joyful praises unto  / niggas ass shots shit jeans bitch ammo tires motherfucker truck ; sparsity=0.0000\n",
      "3: ooh lovin desire doo loves babe higher love fever sweeter  / dem police dans cris wid caan fucked retarded packed dung ; sparsity=0.0000\n",
      "4: georgia tennessee blues lonesome railroad memphis country nashville honky ramblin  / lyrical fucking mic rappers rapper fuck tots chestnuts diss yuletide ; sparsity=0.0000\n",
      "5: pum bang rum rummy tums killah lox kiddie toddle bwoy  / wonderful nipping yuletide paradise beautiful christmases moments moment harmony ciel ; sparsity=0.0001\n",
      "6: playa ballin yup vvs bezel fasho dubs swangers rasaq shawty  / zappa seh caan keyboards mek vai waan wackerman thunes rhythm ; sparsity=0.0000\n",
      "7: goodbye sorry anymore talk fool wasting unsaid lies untrue lie  / niggas bass weed rock percussion land bitch sur corn wid ; sparsity=0.0000\n",
      "8: jingle tums rummy claus rooty kiddie reindeers toddle sleigh pout  / niggas nigga nuh dem que neva huh comme gangstas busta ; sparsity=0.0000\n",
      "9: pero estoy como esta por que quiero voy amor una  / christmas chestnuts chased snow sleigh christmases yuletide rummy survive nipping ; sparsity=0.0000\n",
      "10: eazy flipmode krayzie funky layzie thugsta ren iriscience rippin mcs  / christmas beautiful tidings dreaming darling christmases mistletoe chestnuts frightful filename ; sparsity=0.0000\n",
      "11: tots nipping eskimos cest est roasting sur monde tous jai  / baby fuckin feelin layzie motherfuckin shady hoe thinkin goin krayzie ; sparsity=0.0000\n",
      "12: infant redeeming yon radiant quake hosts thy shineth dreamless virgin  / yeah dem everybody nuh nipping yuh woo yuletide gwaan brand ; sparsity=0.0000\n",
      "13: forgive hurt mama without sorry cry daddy bit apologize fuck  / bass speakers bazooka southern rock yellow percussion rhythm trombone spicy ; sparsity=0.0000\n",
      "14: crashing spinning turning darkness running moving edge alive horizon chasing  / boo filename dat actin christmas playexe talkin playin doin carols ; sparsity=0.0000\n"
     ]
    }
   ],
   "source": [
    "beta = np.load('output/beta.npz')['beta']\n",
    "print_top_words(beta, vocab, n_pos=10, n_neg=10);"
   ]
  },
  {
   "cell_type": "code",
   "execution_count": 57,
   "metadata": {},
   "outputs": [
    {
     "name": "stdout",
     "output_type": "stream",
     "text": [
      "0: gordon silks chews scientists dykes pleading leprechaun poo stroked fusion ; sparsity=0.0000\n",
      "1: farce united walkie africans pagan dawns germs become babylon angry ; sparsity=0.0000\n",
      "2: jerome favourite hummin pulse guessed exists fashionable bubbling homer bin ; sparsity=0.0000\n",
      "3: barricade raoul hobo francs bravo christine leaped cleverly trooper cruel ; sparsity=0.0000\n",
      "4: adrock mca fadeout shamrock openly potnah vallejo irish slanted groovin ; sparsity=0.0000\n",
      "5: muthaphukkin youe charli cakin wheezy baboon deux edi janet savoir ; sparsity=0.0000\n",
      "6: pum triumphant javais syne noel tout tes lowell puis auld ; sparsity=0.0000\n",
      "7: commas 1738 ayy fetty hotline forreal zoovier dex bando shineth ; sparsity=0.0001\n"
     ]
    }
   ],
   "source": [
    "topic_covars = np.load(os.path.join('output', 'beta_c.npz'))\n",
    "weights = topic_covars['beta']\n",
    "names = topic_covars['names']\n",
    "print_top_words(weights, vocab, topic_names=names, n_pos=10, n_neg=0);"
   ]
  },
  {
   "cell_type": "code",
   "execution_count": 29,
   "metadata": {},
   "outputs": [
    {
     "name": "stdout",
     "output_type": "stream",
     "text": [
      "5\n",
      "wouldn't it be nice if we were older? then we wouldn't have to wait so long and wouldn't it be nice to live together in the kind of world where we belong you know it's gonna make it that much better when we can say goodnight and stay together wouldn't it be nice if we could wake up in the morning when the day is new? and after having spent the day together hold each other close the whole night through happy times together we've been spending i wish that every kiss was never ending wouldn't it be nice? maybe if we think, and wish, and hope, and pray, it might come true baby, then there wouldn't be a single thing we couldn't do we could be married and then we'd be happy wouldn't it be nice? you know it seems the more we talk about it it only makes it worse to live without it but let's talk about it wouldn't it be nice?\n"
     ]
    },
    {
     "data": {
      "image/png": "[encoded data removed]",
      "text/plain": [
       "<Figure size 432x288 with 1 Axes>"
      ]
     },
     "metadata": {
      "needs_background": "light"
     },
     "output_type": "display_data"
    }
   ],
   "source": [
    "#visualize\n",
    "%matplotlib inline\n",
    "import numpy as np\n",
    "import pandas as pd\n",
    "import matplotlib.pyplot as plt\n",
    "\n",
    "# load the matrix with topic proportions for each document (note that this excludes those in the dev set).\n",
    "npz = np.load(os.path.join('simple', 'theta.train.npz')) \n",
    "ids = npz['ids']\n",
    "theta = npz['theta']\n",
    "n_docs, n_topics = theta.shape\n",
    "\n",
    "index = 5\n",
    "# plot the proportion of each topic in the first document\n",
    "fig, ax = plt.subplots()\n",
    "ax.bar(range(n_topics), theta[index, :])\n",
    "\n",
    "# find the original line corresponding to this document, and display the text\n",
    "print(ids[index])\n",
    "for line in lines:\n",
    "    doc = json.loads(line)\n",
    "    if doc['id'] == ids[index]:\n",
    "        print(doc['text'])\n",
    "        break\n"
   ]
  },
  {
   "cell_type": "code",
   "execution_count": 121,
   "metadata": {},
   "outputs": [
    {
     "data": {
      "image/png": "[encoded data removed]",
      "text/plain": [
       "<Figure size 1800x432 with 1 Axes>"
      ]
     },
     "metadata": {
      "needs_background": "light"
     },
     "output_type": "display_data"
    }
   ],
   "source": [
    "\n",
    "# load the senator variable for all the documents\n",
    "groups_df = pd.read_csv(os.path.join('prep_new_data_trial', 'train.genre.csv'), header=0, index_col=0)\n",
    "groups = groups_df.columns\n",
    "\n",
    "# pull out a subset corresponding to the ids from above\n",
    "train_subset = groups_df.loc[ids]\n",
    "n_docs, n_groups = train_subset.shape\n",
    "\n",
    "# plot the average senator-topic proportions\n",
    "fig, ax = plt.subplots( figsize=(25,6))\n",
    "lefts = np.zeros(n_groups)\n",
    "for k in range(n_topics):\n",
    "    vals = []\n",
    "    for group in groups:\n",
    "        vals.append(np.mean(theta[train_subset[group] == 1, k]))\n",
    "\n",
    "    ax.barh(range(n_groups), vals, left=lefts)\n",
    "    lefts += np.array(vals)\n",
    "\n",
    "ax.set_yticks(range(n_groups))\n",
    "ax.set_yticklabels(groups, fontsize = 20)\n",
    "ax.set_ylabel('Genre', size = 20)\n",
    "ax.set_xlabel('Topic distribution', size = 16)\n",
    "ax.set_xticks([0.05, 0.15, 0.25, 0.31, 0.45,0.63, 0.76,0.81,0.87,0.95])\n",
    "#ax.set_yticklabels(['1970-77', '1977-82','1982-87','1987-92', '1992-97','1997-01','2001-14', '2014-16'], fontsize = 20)\n",
    "ax.set_xticklabels(['reflection', 'love','unk','religion', 'christmas','country','club', 'artists', 'thug','annot'], fontsize = 20)\n",
    "                 \n",
    "plt.title('Topic distributions over time', size = 26)\n",
    "#[t.set_color(i) for (i,t) in\n",
    "# zip(['blue','orange','green','red','purple','brown','pink','grey','olive','cyan'],ax.xaxis.get_ticklabels())]\n",
    "#ax.tick_params(axis='x', colors=zip['blue','orange','green','red','purple','brown','pink','grey','olive','cyan'])\n",
    "#[t.set_color(zip['blue','orange','green','red','purple','brown','pink','grey','olive','cyan']) for t in ax.xaxis.get_ticklabels()]\n",
    "plt.show();"
   ]
  },
  {
   "cell_type": "code",
   "execution_count": null,
   "metadata": {},
   "outputs": [
    {
     "name": "stdout",
     "output_type": "stream",
     "text": [
      "python run_scholar.py prep_new_data_trial -k 15 --epochs 50 --dev-folds 10 --seed 88 --topic-covars group,artist --labels sex --interactions\n",
      "Loading data\n",
      "Loaded 119366 documents with 18661 features\n",
      "Found 119356 non-empty documents\n",
      "Loading labels from prep_new_data_trial/train.sex.csv\n",
      "Found 2 labels\n",
      "Loading covariates from prep_new_data_trial/train.group.csv\n",
      "Loading covariates from prep_new_data_trial/train.artist.csv\n",
      "Train label proportions: [0.27682731 0.72317269]\n",
      "Computing background frequencies\n",
      "Min/max word counts in training data: 15 180454\n",
      "Network architecture:\n",
      "embedding_dim: 300\n",
      "n_topics: 15\n",
      "vocab_size: 18661\n",
      "label_type: None\n",
      "n_labels: 2\n",
      "n_prior_covars: 0\n",
      "n_topic_covars: 5170\n",
      "l1_beta_reg: 0.0\n",
      "l1_beta_c_reg: 0.0\n",
      "l1_beta_ci_reg: 0.0\n",
      "l2_prior_reg: 0.0\n",
      "classifier_layers: 1\n",
      "use_interactions: True\n",
      "Optimizing full model\n",
      "Epoch: 10 ; cost = 778.961845566 ; training accuracy (noisy) = 0.721413876\n",
      "Epoch: 10; Dev perplexity = 1644.5771; Dev accuracy = 0.7245\n",
      "Epoch: 20 ; cost = 769.139262034 ; training accuracy (noisy) = 0.721544205\n",
      "Epoch: 20; Dev perplexity = 1610.8931; Dev accuracy = 0.7245\n",
      "Epoch: 30 ; cost = 783.813176787 ; training accuracy (noisy) = 0.723331565\n",
      "Epoch: 30; Dev perplexity = 1563.9822; Dev accuracy = 0.7245\n"
     ]
    }
   ],
   "source": [
    "#--------ANOTHER MODEL\n",
    "#adding covars\n",
    "import run_scholar\n",
    "script = 'run_scholar.py'\n",
    "args = 'prep_new_data_trial -k 15 --epochs 50 --dev-folds 10 --seed 88 --topic-covars group --labels sex --interactions'\n",
    "print(\"python\", script, args)\n",
    "run_scholar.main(args.split())"
   ]
  }
 ],
 "metadata": {
  "kernelspec": {
   "display_name": "Python 3",
   "language": "python",
   "name": "python3"
  },
  "language_info": {
   "codemirror_mode": {
    "name": "ipython",
    "version": 3
   },
   "file_extension": ".py",
   "mimetype": "text/x-python",
   "name": "python",
   "nbconvert_exporter": "python",
   "pygments_lexer": "ipython3",
   "version": "3.7.8"
  }
 },
 "nbformat": 4,
 "nbformat_minor": 4
}
